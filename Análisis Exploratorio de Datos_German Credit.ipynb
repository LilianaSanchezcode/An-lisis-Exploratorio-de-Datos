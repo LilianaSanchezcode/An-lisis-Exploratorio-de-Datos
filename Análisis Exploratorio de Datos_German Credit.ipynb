{
  "nbformat": 4,
  "nbformat_minor": 0,
  "metadata": {
    "accelerator": "TPU",
    "colab": {
      "name": "AED_German_credit (1).ipynb",
      "provenance": [],
      "collapsed_sections": []
    },
    "kernelspec": {
      "display_name": "Python 3",
      "name": "python3"
    },
    "language_info": {
      "name": "python"
    }
  },
  "cells": [
    {
      "cell_type": "markdown",
      "metadata": {
        "id": "1_zaFA25_INe"
      },
      "source": [
        "# **Analisis Exploratorio de Datos de la  data German Credit**"
      ]
    },
    {
      "cell_type": "code",
      "metadata": {
        "id": "yVGIMR3TU0I3"
      },
      "source": [
        "from google.colab import drive\n",
        "drive.mount('/content/drive')"
      ],
      "execution_count": null,
      "outputs": []
    },
    {
      "cell_type": "code",
      "metadata": {
        "colab": {
          "base_uri": "https://localhost:8080/",
          "height": 474
        },
        "id": "YJwbqW9iFdLL",
        "cellView": "form",
        "outputId": "588c45ac-76db-4bd3-97fe-b7009b22288f"
      },
      "source": [
        "#@title Riesgo de Crédito en German Credit Data\n",
        "from IPython.display import Image\n",
        "Image(\"/content/drive/MyDrive/Credit-Risk-Examples-2.jpg.jpg\")"
      ],
      "execution_count": null,
      "outputs": [
        {
          "output_type": "execute_result",
          "data": {
            "image/jpeg": "[encoded data removed]",
            "text/plain": [
              "<IPython.core.display.Image object>"
            ]
          },
          "metadata": {},
          "execution_count": 5
        }
      ]
    },
    {
      "cell_type": "markdown",
      "metadata": {
        "id": "p-sicCLASojJ"
      },
      "source": [
        "Una de las industrias que utiliza mucho las soluciones basada en el análisis de datos es la  banca. En particular, vamos a centrarnos por un tiempo en el campo del crédito: se refiere a cualquier operación que implica un operador privado, lo que podría ser un solo individuo en lugar de una familia, y el banco. La idea del crédito  es que el banco se beneficiará de otorgar crédito solo si el cliente no incumple (es decir, no pagará la deuda). En efecto, una vez aceptado como solvente y recibido el crédito, el cliente planificará, junto con el banco, un cronograma de amortización según el cual deberá reembolsar no solo la deuda, sino también los intereses.\n",
        "\n",
        "\n",
        "\n",
        "\n",
        "\n",
        "\n",
        "\n",
        "\n",
        "\n",
        "\n",
        "\n",
        "\n",
        "\n",
        "\n",
        "\n",
        "\n",
        "\n",
        "\n",
        "\n",
        "\n",
        "\n"
      ]
    },
    {
      "cell_type": "markdown",
      "metadata": {
        "id": "L34pDr59T3aQ"
      },
      "source": [
        "\n",
        "Un primer enfoque podría ser realizar un Análisis Exploratorio de Datos (AED) con datos históricos sobre los clientes del banco y ver cuáles son las características que caracterizan a quienes pagaron la deuda y a quienes no. Luego, cuando un nuevo cliente llegue al banco, el mediante el AED se evaluará y le indicará si pagará la deuda."
      ]
    },
    {
      "cell_type": "markdown",
      "metadata": {
        "id": "m7WfDGTzTzFt"
      },
      "source": [
        "\n",
        "Entonces, si por un lado dar crédito es uno de los ingresos de un banco (por los intereses), por el otro implica un riesgo notable. Es por eso que se invierte una gran cantidad de tiempo y dinero en analizar el historial, los hábitos y la probabilidad de pago de la deuda de los clientes."
      ]
    },
    {
      "cell_type": "markdown",
      "metadata": {
        "id": "YhW3Sm7UPfim"
      },
      "source": [
        "**Fuente de la data:**"
      ]
    },
    {
      "cell_type": "markdown",
      "metadata": {
        "id": "19gSwZs2Plh7"
      },
      "source": [
        "El conjunto de datos contiene 1000 filas con 10 variables .En este conjunto de datos, cada entrada representa a un cliente que recibe un crédito de un banco. Cada cliente se clasifica con riesgo crediticio bueno o malo según el conjunto de variables. El enlace al conjunto de datos original se puede encontrar a continuación.\n",
        "\n",
        "https://archive.ics.uci.edu/ml/datasets/statlog+(german+credit+data)\n",
        "\n",
        "https://www.kaggle.com/uciml/german-credit"
      ]
    },
    {
      "cell_type": "markdown",
      "metadata": {
        "id": "rX64TmTtXFIH"
      },
      "source": [
        "**Variables:**\n",
        "\n",
        "\n",
        "\n",
        "Edad (numérica)\n",
        "\n",
        "\n",
        "\n",
        "Sexo (texto: masculino, femenino)\n",
        "\n",
        "\n",
        "\n",
        "\n",
        "Trabajo (numérico: 0 - no calificado y no residente, 1 - no calificado y \n",
        "residente, 2 - calificado, 3 - altamente calificado)\n",
        "\n",
        "\n",
        "\n",
        "Vivienda (texto: propia, alquilada o gratuita)\n",
        "\n",
        "\n",
        "\n",
        "\n",
        "Cuenta de ahorros (texto: pequeño, moderado, bastante rico, rico)\n",
        "\n",
        "\n",
        "\n",
        "Cuenta corriente (numérica, en DM - Deutsch Mark)\n",
        "\n",
        "\n",
        "\n",
        "Monto del crédito (numérico, en DM)\n",
        "\n",
        "\n",
        "\n",
        "\n",
        "Duración (numérica, en meses)\n",
        "\n",
        "\n",
        "\n",
        "\n",
        "\n",
        "Propósito (texto: automóvil, muebles / equipo, radio / TV, electrodomésticos, reparaciones, educación, negocios, vacaciones / otros)\n",
        "\n",
        "\n",
        "\n",
        "\n",
        "Risk: indica si el cliente cumplirá con el pago o no (Malo , bueno)"
      ]
    },
    {
      "cell_type": "code",
      "metadata": {
        "id": "ffr9i38L_I4L"
      },
      "source": [
        "import pandas as pd"
      ],
      "execution_count": null,
      "outputs": []
    },
    {
      "cell_type": "code",
      "metadata": {
        "colab": {
          "base_uri": "https://localhost:8080/"
        },
        "id": "LdBpZGdUjhPp",
        "outputId": "f9ef17da-f882-4e3d-a27d-ad94b46fd8f1"
      },
      "source": [
        "# Montando el Google Drive, para cargar la data y demás archivos\n",
        "\n",
        "from google.colab import drive\n",
        "drive.mount('/content/drive')"
      ],
      "execution_count": null,
      "outputs": [
        {
          "output_type": "stream",
          "name": "stdout",
          "text": [
            "Drive already mounted at /content/drive; to attempt to forcibly remount, call drive.mount(\"/content/drive\", force_remount=True).\n"
          ]
        }
      ]
    },
    {
      "cell_type": "markdown",
      "metadata": {
        "id": "SNM187IbkygL"
      },
      "source": [
        "1.Cargando los datos desde Google Drive"
      ]
    },
    {
      "cell_type": "code",
      "metadata": {
        "id": "qgW0-Kgiuz-h"
      },
      "source": [
        "credit = pd.read_csv(\"/content/drive/MyDrive/german_credit_data.csv\") # Hay que copiar la ruta desde Google Drive"
      ],
      "execution_count": null,
      "outputs": []
    },
    {
      "cell_type": "code",
      "metadata": {
        "colab": {
          "base_uri": "https://localhost:8080/",
          "height": 206
        },
        "id": "i-T1ESuJJfNG",
        "outputId": "b5f0eaeb-4473-411c-dbc7-02bfcd0e2fcf"
      },
      "source": [
        "credit.head()  # Viendo las 5 primeras filas del data set credit"
      ],
      "execution_count": null,
      "outputs": [
        {
          "output_type": "execute_result",
          "data": {
            "text/html": [
              "<div>\n",
              "<style scoped>\n",
              "    .dataframe tbody tr th:only-of-type {\n",
              "        vertical-align: middle;\n",
              "    }\n",
              "\n",
              "    .dataframe tbody tr th {\n",
              "        vertical-align: top;\n",
              "    }\n",
              "\n",
              "    .dataframe thead th {\n",
              "        text-align: right;\n",
              "    }\n",
              "</style>\n",
              "<table border=\"1\" class=\"dataframe\">\n",
              "  <thead>\n",
              "    <tr style=\"text-align: right;\">\n",
              "      <th></th>\n",
              "      <th>Unnamed: 0</th>\n",
              "      <th>Age</th>\n",
              "      <th>Sex</th>\n",
              "      <th>Job</th>\n",
              "      <th>Housing</th>\n",
              "      <th>Saving accounts</th>\n",
              "      <th>Checking account</th>\n",
              "      <th>Credit amount</th>\n",
              "      <th>Duration</th>\n",
              "      <th>Purpose</th>\n",
              "      <th>Risk</th>\n",
              "    </tr>\n",
              "  </thead>\n",
              "  <tbody>\n",
              "    <tr>\n",
              "      <th>0</th>\n",
              "      <td>0</td>\n",
              "      <td>67</td>\n",
              "      <td>male</td>\n",
              "      <td>2</td>\n",
              "      <td>own</td>\n",
              "      <td>NaN</td>\n",
              "      <td>little</td>\n",
              "      <td>1169</td>\n",
              "      <td>6</td>\n",
              "      <td>radio/TV</td>\n",
              "      <td>good</td>\n",
              "    </tr>\n",
              "    <tr>\n",
              "      <th>1</th>\n",
              "      <td>1</td>\n",
              "      <td>22</td>\n",
              "      <td>female</td>\n",
              "      <td>2</td>\n",
              "      <td>own</td>\n",
              "      <td>little</td>\n",
              "      <td>moderate</td>\n",
              "      <td>5951</td>\n",
              "      <td>48</td>\n",
              "      <td>radio/TV</td>\n",
              "      <td>bad</td>\n",
              "    </tr>\n",
              "    <tr>\n",
              "      <th>2</th>\n",
              "      <td>2</td>\n",
              "      <td>49</td>\n",
              "      <td>male</td>\n",
              "      <td>1</td>\n",
              "      <td>own</td>\n",
              "      <td>little</td>\n",
              "      <td>NaN</td>\n",
              "      <td>2096</td>\n",
              "      <td>12</td>\n",
              "      <td>education</td>\n",
              "      <td>good</td>\n",
              "    </tr>\n",
              "    <tr>\n",
              "      <th>3</th>\n",
              "      <td>3</td>\n",
              "      <td>45</td>\n",
              "      <td>male</td>\n",
              "      <td>2</td>\n",
              "      <td>free</td>\n",
              "      <td>little</td>\n",
              "      <td>little</td>\n",
              "      <td>7882</td>\n",
              "      <td>42</td>\n",
              "      <td>furniture/equipment</td>\n",
              "      <td>good</td>\n",
              "    </tr>\n",
              "    <tr>\n",
              "      <th>4</th>\n",
              "      <td>4</td>\n",
              "      <td>53</td>\n",
              "      <td>male</td>\n",
              "      <td>2</td>\n",
              "      <td>free</td>\n",
              "      <td>little</td>\n",
              "      <td>little</td>\n",
              "      <td>4870</td>\n",
              "      <td>24</td>\n",
              "      <td>car</td>\n",
              "      <td>bad</td>\n",
              "    </tr>\n",
              "  </tbody>\n",
              "</table>\n",
              "</div>"
            ],
            "text/plain": [
              "   Unnamed: 0  Age     Sex  ...  Duration              Purpose  Risk\n",
              "0           0   67    male  ...         6             radio/TV  good\n",
              "1           1   22  female  ...        48             radio/TV   bad\n",
              "2           2   49    male  ...        12            education  good\n",
              "3           3   45    male  ...        42  furniture/equipment  good\n",
              "4           4   53    male  ...        24                  car   bad\n",
              "\n",
              "[5 rows x 11 columns]"
            ]
          },
          "metadata": {},
          "execution_count": 77
        }
      ]
    },
    {
      "cell_type": "code",
      "metadata": {
        "id": "2bA7hc9gKfaG"
      },
      "source": [
        "credit.drop('Unnamed: 0', axis=1, inplace=True) # Eliminando columna Unnamed del dataframe"
      ],
      "execution_count": null,
      "outputs": []
    },
    {
      "cell_type": "code",
      "metadata": {
        "colab": {
          "base_uri": "https://localhost:8080/"
        },
        "id": "l3ULq-IuKit2",
        "outputId": "6e63fffe-07c8-4683-dd99-634f047ac7ee"
      },
      "source": [
        "credit.info()"
      ],
      "execution_count": null,
      "outputs": [
        {
          "output_type": "stream",
          "name": "stdout",
          "text": [
            "<class 'pandas.core.frame.DataFrame'>\n",
            "RangeIndex: 1000 entries, 0 to 999\n",
            "Data columns (total 10 columns):\n",
            " #   Column            Non-Null Count  Dtype \n",
            "---  ------            --------------  ----- \n",
            " 0   Age               1000 non-null   int64 \n",
            " 1   Sex               1000 non-null   object\n",
            " 2   Job               1000 non-null   int64 \n",
            " 3   Housing           1000 non-null   object\n",
            " 4   Saving accounts   817 non-null    object\n",
            " 5   Checking account  606 non-null    object\n",
            " 6   Credit amount     1000 non-null   int64 \n",
            " 7   Duration          1000 non-null   int64 \n",
            " 8   Purpose           1000 non-null   object\n",
            " 9   Risk              1000 non-null   object\n",
            "dtypes: int64(4), object(6)\n",
            "memory usage: 78.2+ KB\n"
          ]
        }
      ]
    },
    {
      "cell_type": "markdown",
      "metadata": {
        "id": "GcjDwSPY2RX9"
      },
      "source": [
        "Se observa que el data set tiene 1000 observaciones, 10  variables, 4 son numericas y el resto categóricas.\n",
        "\n",
        "\n",
        "\n",
        "**Las variables numéricas son:**\n",
        "\n",
        "\n",
        "\n",
        "\n",
        "\n",
        "Age\n",
        "\n",
        "\n",
        "\n",
        "Job\n",
        "\n",
        "\n",
        "\n",
        "Duration  \n",
        "\n",
        "\n",
        "\n",
        "\n",
        "\n",
        "Credit Amount"
      ]
    },
    {
      "cell_type": "code",
      "metadata": {
        "colab": {
          "base_uri": "https://localhost:8080/",
          "height": 300
        },
        "id": "BtlfIGJQt36h",
        "outputId": "03ab7e45-28f2-41f9-acda-2cfaeccb6b48"
      },
      "source": [
        "#Show basic stats\n",
        "credit[['Age', 'Duration', 'Credit amount']].describe().round(1)"
      ],
      "execution_count": null,
      "outputs": [
        {
          "output_type": "execute_result",
          "data": {
            "text/html": [
              "<div>\n",
              "<style scoped>\n",
              "    .dataframe tbody tr th:only-of-type {\n",
              "        vertical-align: middle;\n",
              "    }\n",
              "\n",
              "    .dataframe tbody tr th {\n",
              "        vertical-align: top;\n",
              "    }\n",
              "\n",
              "    .dataframe thead th {\n",
              "        text-align: right;\n",
              "    }\n",
              "</style>\n",
              "<table border=\"1\" class=\"dataframe\">\n",
              "  <thead>\n",
              "    <tr style=\"text-align: right;\">\n",
              "      <th></th>\n",
              "      <th>Age</th>\n",
              "      <th>Duration</th>\n",
              "      <th>Credit amount</th>\n",
              "    </tr>\n",
              "  </thead>\n",
              "  <tbody>\n",
              "    <tr>\n",
              "      <th>count</th>\n",
              "      <td>1000.0</td>\n",
              "      <td>1000.0</td>\n",
              "      <td>1000.0</td>\n",
              "    </tr>\n",
              "    <tr>\n",
              "      <th>mean</th>\n",
              "      <td>35.5</td>\n",
              "      <td>20.9</td>\n",
              "      <td>3271.3</td>\n",
              "    </tr>\n",
              "    <tr>\n",
              "      <th>std</th>\n",
              "      <td>11.4</td>\n",
              "      <td>12.1</td>\n",
              "      <td>2822.7</td>\n",
              "    </tr>\n",
              "    <tr>\n",
              "      <th>min</th>\n",
              "      <td>19.0</td>\n",
              "      <td>4.0</td>\n",
              "      <td>250.0</td>\n",
              "    </tr>\n",
              "    <tr>\n",
              "      <th>25%</th>\n",
              "      <td>27.0</td>\n",
              "      <td>12.0</td>\n",
              "      <td>1365.5</td>\n",
              "    </tr>\n",
              "    <tr>\n",
              "      <th>50%</th>\n",
              "      <td>33.0</td>\n",
              "      <td>18.0</td>\n",
              "      <td>2319.5</td>\n",
              "    </tr>\n",
              "    <tr>\n",
              "      <th>75%</th>\n",
              "      <td>42.0</td>\n",
              "      <td>24.0</td>\n",
              "      <td>3972.2</td>\n",
              "    </tr>\n",
              "    <tr>\n",
              "      <th>max</th>\n",
              "      <td>75.0</td>\n",
              "      <td>72.0</td>\n",
              "      <td>18424.0</td>\n",
              "    </tr>\n",
              "  </tbody>\n",
              "</table>\n",
              "</div>"
            ],
            "text/plain": [
              "          Age  Duration  Credit amount\n",
              "count  1000.0    1000.0         1000.0\n",
              "mean     35.5      20.9         3271.3\n",
              "std      11.4      12.1         2822.7\n",
              "min      19.0       4.0          250.0\n",
              "25%      27.0      12.0         1365.5\n",
              "50%      33.0      18.0         2319.5\n",
              "75%      42.0      24.0         3972.2\n",
              "max      75.0      72.0        18424.0"
            ]
          },
          "metadata": {},
          "execution_count": 146
        }
      ]
    },
    {
      "cell_type": "markdown",
      "metadata": {
        "id": "6Za1vLxy3mJh"
      },
      "source": [
        "Se observa un resumen de estadísticas descriptivas.Los percentiles P25,P50 y P75, para las variables numéricas Age, Duration y Credit Amount. Se observa valores muy distintos de Credit Amount, respecto de Age y duration.\n",
        "Un máximo para la cantidad de credit Amount (solicitud de préstamo), de 18424 USD y un minimo de 250 USD.\n",
        "Por otro lado, duration, tiene un minimo de 4, y un máximo de 72.La edad mínima de los clientes que pidieron crédito, fue de 19 años, y las edad máxima de los clientes que solicitaron préstamo fue de 75 años. "
      ]
    },
    {
      "cell_type": "code",
      "metadata": {
        "colab": {
          "base_uri": "https://localhost:8080/",
          "height": 550
        },
        "id": "xqLTTkH0ub9b",
        "outputId": "89eebe93-c920-40cf-864c-8f21990dadcc"
      },
      "source": [
        "credit.groupby('Saving accounts')[['Duration', 'Credit amount']].describe().T.round(1)"
      ],
      "execution_count": null,
      "outputs": [
        {
          "output_type": "execute_result",
          "data": {
            "text/html": [
              "<div>\n",
              "<style scoped>\n",
              "    .dataframe tbody tr th:only-of-type {\n",
              "        vertical-align: middle;\n",
              "    }\n",
              "\n",
              "    .dataframe tbody tr th {\n",
              "        vertical-align: top;\n",
              "    }\n",
              "\n",
              "    .dataframe thead th {\n",
              "        text-align: right;\n",
              "    }\n",
              "</style>\n",
              "<table border=\"1\" class=\"dataframe\">\n",
              "  <thead>\n",
              "    <tr style=\"text-align: right;\">\n",
              "      <th></th>\n",
              "      <th>Saving accounts</th>\n",
              "      <th>little</th>\n",
              "      <th>moderate</th>\n",
              "      <th>other</th>\n",
              "    </tr>\n",
              "  </thead>\n",
              "  <tbody>\n",
              "    <tr>\n",
              "      <th rowspan=\"8\" valign=\"top\">Duration</th>\n",
              "      <th>count</th>\n",
              "      <td>786.0</td>\n",
              "      <td>103.0</td>\n",
              "      <td>111.0</td>\n",
              "    </tr>\n",
              "    <tr>\n",
              "      <th>mean</th>\n",
              "      <td>21.0</td>\n",
              "      <td>22.7</td>\n",
              "      <td>18.7</td>\n",
              "    </tr>\n",
              "    <tr>\n",
              "      <th>std</th>\n",
              "      <td>12.0</td>\n",
              "      <td>13.8</td>\n",
              "      <td>10.1</td>\n",
              "    </tr>\n",
              "    <tr>\n",
              "      <th>min</th>\n",
              "      <td>4.0</td>\n",
              "      <td>6.0</td>\n",
              "      <td>6.0</td>\n",
              "    </tr>\n",
              "    <tr>\n",
              "      <th>25%</th>\n",
              "      <td>12.0</td>\n",
              "      <td>12.0</td>\n",
              "      <td>12.0</td>\n",
              "    </tr>\n",
              "    <tr>\n",
              "      <th>50%</th>\n",
              "      <td>18.0</td>\n",
              "      <td>21.0</td>\n",
              "      <td>15.0</td>\n",
              "    </tr>\n",
              "    <tr>\n",
              "      <th>75%</th>\n",
              "      <td>24.0</td>\n",
              "      <td>27.0</td>\n",
              "      <td>24.0</td>\n",
              "    </tr>\n",
              "    <tr>\n",
              "      <th>max</th>\n",
              "      <td>60.0</td>\n",
              "      <td>72.0</td>\n",
              "      <td>48.0</td>\n",
              "    </tr>\n",
              "    <tr>\n",
              "      <th rowspan=\"8\" valign=\"top\">Credit amount</th>\n",
              "      <th>count</th>\n",
              "      <td>786.0</td>\n",
              "      <td>103.0</td>\n",
              "      <td>111.0</td>\n",
              "    </tr>\n",
              "    <tr>\n",
              "      <th>mean</th>\n",
              "      <td>3355.1</td>\n",
              "      <td>3384.0</td>\n",
              "      <td>2572.7</td>\n",
              "    </tr>\n",
              "    <tr>\n",
              "      <th>std</th>\n",
              "      <td>2884.4</td>\n",
              "      <td>2874.9</td>\n",
              "      <td>2183.9</td>\n",
              "    </tr>\n",
              "    <tr>\n",
              "      <th>min</th>\n",
              "      <td>276.0</td>\n",
              "      <td>362.0</td>\n",
              "      <td>250.0</td>\n",
              "    </tr>\n",
              "    <tr>\n",
              "      <th>25%</th>\n",
              "      <td>1375.8</td>\n",
              "      <td>1413.5</td>\n",
              "      <td>1268.5</td>\n",
              "    </tr>\n",
              "    <tr>\n",
              "      <th>50%</th>\n",
              "      <td>2325.0</td>\n",
              "      <td>2463.0</td>\n",
              "      <td>1941.0</td>\n",
              "    </tr>\n",
              "    <tr>\n",
              "      <th>75%</th>\n",
              "      <td>4168.0</td>\n",
              "      <td>4145.0</td>\n",
              "      <td>3124.0</td>\n",
              "    </tr>\n",
              "    <tr>\n",
              "      <th>max</th>\n",
              "      <td>18424.0</td>\n",
              "      <td>14782.0</td>\n",
              "      <td>12749.0</td>\n",
              "    </tr>\n",
              "  </tbody>\n",
              "</table>\n",
              "</div>"
            ],
            "text/plain": [
              "Saving accounts       little  moderate    other\n",
              "Duration      count    786.0     103.0    111.0\n",
              "              mean      21.0      22.7     18.7\n",
              "              std       12.0      13.8     10.1\n",
              "              min        4.0       6.0      6.0\n",
              "              25%       12.0      12.0     12.0\n",
              "              50%       18.0      21.0     15.0\n",
              "              75%       24.0      27.0     24.0\n",
              "              max       60.0      72.0     48.0\n",
              "Credit amount count    786.0     103.0    111.0\n",
              "              mean    3355.1    3384.0   2572.7\n",
              "              std     2884.4    2874.9   2183.9\n",
              "              min      276.0     362.0    250.0\n",
              "              25%     1375.8    1413.5   1268.5\n",
              "              50%     2325.0    2463.0   1941.0\n",
              "              75%     4168.0    4145.0   3124.0\n",
              "              max    18424.0   14782.0  12749.0"
            ]
          },
          "metadata": {},
          "execution_count": 148
        }
      ]
    },
    {
      "cell_type": "code",
      "metadata": {
        "colab": {
          "base_uri": "https://localhost:8080/"
        },
        "id": "LSA6053qPhYu",
        "outputId": "a0aedf84-9327-4685-a5f0-132632d86cc3"
      },
      "source": [
        "credit[\"Default\"] = credit[\"Risk\"] # Creando la variable Default  (asignación de Risk a Default)\n",
        "credit.info() # Validando que la variable Default se cre"
      ],
      "execution_count": null,
      "outputs": [
        {
          "output_type": "stream",
          "name": "stdout",
          "text": [
            "<class 'pandas.core.frame.DataFrame'>\n",
            "RangeIndex: 1000 entries, 0 to 999\n",
            "Data columns (total 11 columns):\n",
            " #   Column            Non-Null Count  Dtype \n",
            "---  ------            --------------  ----- \n",
            " 0   Age               1000 non-null   int64 \n",
            " 1   Sex               1000 non-null   object\n",
            " 2   Job               1000 non-null   int64 \n",
            " 3   Housing           1000 non-null   object\n",
            " 4   Saving accounts   817 non-null    object\n",
            " 5   Checking account  606 non-null    object\n",
            " 6   Credit amount     1000 non-null   int64 \n",
            " 7   Duration          1000 non-null   int64 \n",
            " 8   Purpose           1000 non-null   object\n",
            " 9   Risk              1000 non-null   object\n",
            " 10  Default           1000 non-null   object\n",
            "dtypes: int64(4), object(7)\n",
            "memory usage: 86.1+ KB\n"
          ]
        }
      ]
    },
    {
      "cell_type": "code",
      "metadata": {
        "id": "KuHSxtYePJe0"
      },
      "source": [
        "credit = credit.drop(columns=\"Risk\") # Eliminando la varible Risk"
      ],
      "execution_count": null,
      "outputs": []
    },
    {
      "cell_type": "code",
      "metadata": {
        "colab": {
          "base_uri": "https://localhost:8080/"
        },
        "id": "KhMwQR9yN240",
        "outputId": "b4b80c01-1e5c-4da9-9aed-755b5273692a"
      },
      "source": [
        "\n",
        "credit.info # Validando que la variable Risk  se elimin"
      ],
      "execution_count": null,
      "outputs": [
        {
          "output_type": "execute_result",
          "data": {
            "text/plain": [
              "<bound method DataFrame.info of      Age     Sex  Job  ... Duration              Purpose Default\n",
              "0     67    male    2  ...        6             radio/TV    good\n",
              "1     22  female    2  ...       48             radio/TV     bad\n",
              "2     49    male    1  ...       12            education    good\n",
              "3     45    male    2  ...       42  furniture/equipment    good\n",
              "4     53    male    2  ...       24                  car     bad\n",
              "..   ...     ...  ...  ...      ...                  ...     ...\n",
              "995   31  female    1  ...       12  furniture/equipment    good\n",
              "996   40    male    3  ...       30                  car    good\n",
              "997   38    male    2  ...       12             radio/TV    good\n",
              "998   23    male    2  ...       45             radio/TV     bad\n",
              "999   27    male    2  ...       45                  car    good\n",
              "\n",
              "[1000 rows x 10 columns]>"
            ]
          },
          "metadata": {},
          "execution_count": 84
        }
      ]
    },
    {
      "cell_type": "code",
      "metadata": {
        "colab": {
          "base_uri": "https://localhost:8080/",
          "height": 206
        },
        "id": "7-V4gplXOaGE",
        "outputId": "29b5f031-6253-42d7-b8dc-c8b7342aa87e"
      },
      "source": [
        "credit.head() "
      ],
      "execution_count": null,
      "outputs": [
        {
          "output_type": "execute_result",
          "data": {
            "text/html": [
              "<div>\n",
              "<style scoped>\n",
              "    .dataframe tbody tr th:only-of-type {\n",
              "        vertical-align: middle;\n",
              "    }\n",
              "\n",
              "    .dataframe tbody tr th {\n",
              "        vertical-align: top;\n",
              "    }\n",
              "\n",
              "    .dataframe thead th {\n",
              "        text-align: right;\n",
              "    }\n",
              "</style>\n",
              "<table border=\"1\" class=\"dataframe\">\n",
              "  <thead>\n",
              "    <tr style=\"text-align: right;\">\n",
              "      <th></th>\n",
              "      <th>Age</th>\n",
              "      <th>Sex</th>\n",
              "      <th>Job</th>\n",
              "      <th>Housing</th>\n",
              "      <th>Saving accounts</th>\n",
              "      <th>Checking account</th>\n",
              "      <th>Credit amount</th>\n",
              "      <th>Duration</th>\n",
              "      <th>Purpose</th>\n",
              "      <th>Default</th>\n",
              "    </tr>\n",
              "  </thead>\n",
              "  <tbody>\n",
              "    <tr>\n",
              "      <th>0</th>\n",
              "      <td>67</td>\n",
              "      <td>male</td>\n",
              "      <td>2</td>\n",
              "      <td>own</td>\n",
              "      <td>NaN</td>\n",
              "      <td>little</td>\n",
              "      <td>1169</td>\n",
              "      <td>6</td>\n",
              "      <td>radio/TV</td>\n",
              "      <td>good</td>\n",
              "    </tr>\n",
              "    <tr>\n",
              "      <th>1</th>\n",
              "      <td>22</td>\n",
              "      <td>female</td>\n",
              "      <td>2</td>\n",
              "      <td>own</td>\n",
              "      <td>little</td>\n",
              "      <td>moderate</td>\n",
              "      <td>5951</td>\n",
              "      <td>48</td>\n",
              "      <td>radio/TV</td>\n",
              "      <td>bad</td>\n",
              "    </tr>\n",
              "    <tr>\n",
              "      <th>2</th>\n",
              "      <td>49</td>\n",
              "      <td>male</td>\n",
              "      <td>1</td>\n",
              "      <td>own</td>\n",
              "      <td>little</td>\n",
              "      <td>NaN</td>\n",
              "      <td>2096</td>\n",
              "      <td>12</td>\n",
              "      <td>education</td>\n",
              "      <td>good</td>\n",
              "    </tr>\n",
              "    <tr>\n",
              "      <th>3</th>\n",
              "      <td>45</td>\n",
              "      <td>male</td>\n",
              "      <td>2</td>\n",
              "      <td>free</td>\n",
              "      <td>little</td>\n",
              "      <td>little</td>\n",
              "      <td>7882</td>\n",
              "      <td>42</td>\n",
              "      <td>furniture/equipment</td>\n",
              "      <td>good</td>\n",
              "    </tr>\n",
              "    <tr>\n",
              "      <th>4</th>\n",
              "      <td>53</td>\n",
              "      <td>male</td>\n",
              "      <td>2</td>\n",
              "      <td>free</td>\n",
              "      <td>little</td>\n",
              "      <td>little</td>\n",
              "      <td>4870</td>\n",
              "      <td>24</td>\n",
              "      <td>car</td>\n",
              "      <td>bad</td>\n",
              "    </tr>\n",
              "  </tbody>\n",
              "</table>\n",
              "</div>"
            ],
            "text/plain": [
              "   Age     Sex  Job  ... Duration              Purpose Default\n",
              "0   67    male    2  ...        6             radio/TV    good\n",
              "1   22  female    2  ...       48             radio/TV     bad\n",
              "2   49    male    1  ...       12            education    good\n",
              "3   45    male    2  ...       42  furniture/equipment    good\n",
              "4   53    male    2  ...       24                  car     bad\n",
              "\n",
              "[5 rows x 10 columns]"
            ]
          },
          "metadata": {},
          "execution_count": 85
        }
      ]
    },
    {
      "cell_type": "code",
      "metadata": {
        "colab": {
          "base_uri": "https://localhost:8080/"
        },
        "id": "9FJd77yATv4d",
        "outputId": "bfa289e8-91df-464f-b3ac-21837c5ee74e"
      },
      "source": [
        "credit['Default'].value_counts()"
      ],
      "execution_count": null,
      "outputs": [
        {
          "output_type": "execute_result",
          "data": {
            "text/plain": [
              "good    700\n",
              "bad     300\n",
              "Name: Default, dtype: int64"
            ]
          },
          "metadata": {},
          "execution_count": 86
        }
      ]
    },
    {
      "cell_type": "markdown",
      "metadata": {
        "id": "z1imwtTWlwbx"
      },
      "source": [
        "Identificando valores missing"
      ]
    },
    {
      "cell_type": "code",
      "metadata": {
        "colab": {
          "base_uri": "https://localhost:8080/"
        },
        "id": "xwCq93XgTwtF",
        "outputId": "100a6651-1b4b-4e1b-e5b4-3ae1e74940f3"
      },
      "source": [
        "credit.isnull().sum()"
      ],
      "execution_count": null,
      "outputs": [
        {
          "output_type": "execute_result",
          "data": {
            "text/plain": [
              "Age                   0\n",
              "Sex                   0\n",
              "Job                   0\n",
              "Housing               0\n",
              "Saving accounts     183\n",
              "Checking account    394\n",
              "Credit amount         0\n",
              "Duration              0\n",
              "Purpose               0\n",
              "Default               0\n",
              "dtype: int64"
            ]
          },
          "metadata": {},
          "execution_count": 87
        }
      ]
    },
    {
      "cell_type": "markdown",
      "metadata": {
        "id": "h4MeG6TXw5MN"
      },
      "source": [
        "Se observa que las variables Saving Accounts, y Checking account tienen la cantidad de 183  y  394, valores missing respectivamente."
      ]
    },
    {
      "cell_type": "code",
      "metadata": {
        "colab": {
          "base_uri": "https://localhost:8080/"
        },
        "id": "cuUhVlPOcCol",
        "outputId": "77c65103-96e0-49ce-df1b-7414f2077d7e"
      },
      "source": [
        "\n",
        "# count_missing = data.isnull().sum().sort_values(ascending = False)\n",
        "percentage_missing=round(credit.isnull().sum()/len(credit)*100,2).sort_values(ascending = False)\n",
        "print(percentage_missing)\n",
        "\n",
        "# Drop missing values\n",
        "#Se pueden eliminar filas y clumnas  con missing \n",
        "## remove all the rows that contain a missing value\n",
        "#data.dropna()\n",
        "# remove all columns with at least one missing value\n",
        "#columns_with_na_dropped = nfl_data.dropna(axis=1)\n",
        "#columns_with_na_dropped.head()\n",
        "# Fuente:https://www.kaggle.com/rtatman/data-cleaning-challenge-handling-missing-values"
      ],
      "execution_count": null,
      "outputs": [
        {
          "output_type": "stream",
          "name": "stdout",
          "text": [
            "Checking account    39.4\n",
            "Saving accounts     18.3\n",
            "Default              0.0\n",
            "Purpose              0.0\n",
            "Duration             0.0\n",
            "Credit amount        0.0\n",
            "Housing              0.0\n",
            "Job                  0.0\n",
            "Sex                  0.0\n",
            "Age                  0.0\n",
            "dtype: float64\n"
          ]
        }
      ]
    },
    {
      "cell_type": "code",
      "metadata": {
        "id": "U4yqxUISfEqU"
      },
      "source": [
        "#Imputación de los valores faltantes de todas las columnas numéricas\n",
        "#Imputación por media, y mediana\n",
        "\n",
        "#DATA=dataframe.apply(lambda x:x.fillna(x.mean()),axis=0)\n",
        "#https://www.youtube.com/watch?v=bY7OIJvTMrE&t=396s\n",
        "#Rocio Chavez\n",
        "\n",
        "#Reemplazando, imputando los valores perdidos de una columna categorica,por la palabara desconocida\n",
        "#datanew=dataframe['columna'].fillna('Desconocida',inplace=True)\n",
        "\n",
        "# Imputando con el valor en la columna catgorica de la fila anterior\n",
        "# datanew=dataframe.fillna(method='ffill')\n",
        "\n",
        "\n",
        "\n",
        "# Imputando con el valor en la columna categorica de la fila siguiente\n",
        "# datanew=dataframe.fillna(method='bfill')\n"
      ],
      "execution_count": null,
      "outputs": []
    },
    {
      "cell_type": "code",
      "metadata": {
        "id": "cga_sf-joKHi"
      },
      "source": [
        "#Filling missing values with mode\n",
        "credit[\"Saving accounts\"].fillna(credit['Saving accounts'].mode()[0], inplace=True)\n"
      ],
      "execution_count": null,
      "outputs": []
    },
    {
      "cell_type": "code",
      "metadata": {
        "id": "3ZhKj5vkow8p"
      },
      "source": [
        "credit[\"Checking account\"].fillna(credit['Checking account'].mode()[0], inplace=True)"
      ],
      "execution_count": null,
      "outputs": []
    },
    {
      "cell_type": "code",
      "metadata": {
        "colab": {
          "base_uri": "https://localhost:8080/"
        },
        "id": "lK3hNNsoo1WR",
        "outputId": "840f3e34-cb47-48c3-a4de-4c91f07caa7b"
      },
      "source": [
        "credit.isnull().sum()"
      ],
      "execution_count": null,
      "outputs": [
        {
          "output_type": "execute_result",
          "data": {
            "text/plain": [
              "Age                 0\n",
              "Sex                 0\n",
              "Job                 0\n",
              "Housing             0\n",
              "Saving accounts     0\n",
              "Checking account    0\n",
              "Credit amount       0\n",
              "Duration            0\n",
              "Purpose             0\n",
              "Default             0\n",
              "dtype: int64"
            ]
          },
          "metadata": {},
          "execution_count": 92
        }
      ]
    },
    {
      "cell_type": "code",
      "metadata": {
        "colab": {
          "base_uri": "https://localhost:8080/"
        },
        "id": "y9wm2K7Wo_qw",
        "outputId": "67d32007-e70a-40eb-be40-894976ca8b67"
      },
      "source": [
        "print(credit['Saving accounts'].value_counts())"
      ],
      "execution_count": null,
      "outputs": [
        {
          "output_type": "stream",
          "name": "stdout",
          "text": [
            "little        786\n",
            "moderate      103\n",
            "quite rich     63\n",
            "rich           48\n",
            "Name: Saving accounts, dtype: int64\n"
          ]
        }
      ]
    },
    {
      "cell_type": "markdown",
      "metadata": {
        "id": "hvc2otwvohVw"
      },
      "source": [
        "Proporción de cuentas de ahorro con ingresos little o moderate y su nivel de Default"
      ]
    },
    {
      "cell_type": "code",
      "metadata": {
        "colab": {
          "base_uri": "https://localhost:8080/"
        },
        "id": "QQAZjGC0pDmY",
        "outputId": "bf4b44ba-f746-40d6-f43a-6f5faeb0985c"
      },
      "source": [
        "print(credit['Checking account'].value_counts())"
      ],
      "execution_count": null,
      "outputs": [
        {
          "output_type": "stream",
          "name": "stdout",
          "text": [
            "little      668\n",
            "moderate    269\n",
            "rich         63\n",
            "Name: Checking account, dtype: int64\n"
          ]
        }
      ]
    },
    {
      "cell_type": "markdown",
      "metadata": {
        "id": "FQjIGJOYlHvM"
      },
      "source": [
        "# 2.**Análisis Exploratorio de Datos**"
      ]
    },
    {
      "cell_type": "code",
      "metadata": {
        "colab": {
          "base_uri": "https://localhost:8080/",
          "height": 302
        },
        "id": "ziI964kZ-GoU",
        "outputId": "3ce0135b-52ae-45db-c374-c2d260722ce3"
      },
      "source": [
        "#importing seaborn for statistical plots\n",
        "\n",
        "# Colores de palette \n",
        "#https://www.geeksforgeeks.org/countplot-using-seaborn-in-python/\n",
        "#https://seaborn.pydata.org/generated/seaborn.color_palette.html#seaborn.color_palette\n",
        "\n",
        "import seaborn as sns\n",
        "\n",
        "\n",
        "sns.countplot(x= 'Sex', data = credit, hue= 'Default', palette='BuGn_r')\n"
      ],
      "execution_count": null,
      "outputs": [
        {
          "output_type": "execute_result",
          "data": {
            "text/plain": [
              "<matplotlib.axes._subplots.AxesSubplot at 0x7fb54d0132d0>"
            ]
          },
          "metadata": {},
          "execution_count": 95
        },
        {
          "output_type": "display_data",
          "data": {
            "image/png": "[encoded data removed]",
            "text/plain": [
              "<Figure size 432x288 with 1 Axes>"
            ]
          },
          "metadata": {}
        }
      ]
    },
    {
      "cell_type": "markdown",
      "metadata": {
        "id": "e3TieyiKJIhr"
      },
      "source": [
        "El gráfico indica que los clientes de sexo masculino, son más propensos a caer en Default, e incumplir con los pagos, respecto de las clientas femeninas."
      ]
    },
    {
      "cell_type": "code",
      "metadata": {
        "colab": {
          "base_uri": "https://localhost:8080/",
          "height": 302
        },
        "id": "WdnHhVTO-iAa",
        "outputId": "573d1956-43f6-47c0-c368-a3fa908567be"
      },
      "source": [
        "\n",
        "sns.countplot(x= 'Job', data = credit, hue= 'Default',palette=\"gist_heat\")"
      ],
      "execution_count": null,
      "outputs": [
        {
          "output_type": "execute_result",
          "data": {
            "text/plain": [
              "<matplotlib.axes._subplots.AxesSubplot at 0x7fb54cfebad0>"
            ]
          },
          "metadata": {},
          "execution_count": 96
        },
        {
          "output_type": "display_data",
          "data": {
            "image/png": "[encoded data removed]",
            "text/plain": [
              "<Figure size 432x288 with 1 Axes>"
            ]
          },
          "metadata": {}
        }
      ]
    },
    {
      "cell_type": "markdown",
      "metadata": {
        "id": "0pdHzq_pNFYw"
      },
      "source": [
        "Visualmente se indica que los clientes más probables para caer en Default, son aquellos clientes cuyo status en el trabajo es calificado, y altamente calificado.\n",
        "\n",
        "\n",
        "\n",
        "https://archive.ics.uci.edu/ml/datasets/South+German+Credit+%28UPDATE%29"
      ]
    },
    {
      "cell_type": "code",
      "metadata": {
        "colab": {
          "base_uri": "https://localhost:8080/",
          "height": 302
        },
        "id": "1IB-mI-_-oBu",
        "outputId": "e9747724-e303-45a9-9e9b-15d8d1391a5d"
      },
      "source": [
        "sns.set_theme(style=\"darkgrid\")\n",
        "sns.countplot(x= 'Housing', data = credit, hue= 'Default',palette=\"gist_rainbow_r\" )"
      ],
      "execution_count": null,
      "outputs": [
        {
          "output_type": "execute_result",
          "data": {
            "text/plain": [
              "<matplotlib.axes._subplots.AxesSubplot at 0x7fb54cf66a90>"
            ]
          },
          "metadata": {},
          "execution_count": 97
        },
        {
          "output_type": "display_data",
          "data": {
            "image/png": "[encoded data removed]",
            "text/plain": [
              "<Figure size 432x288 with 1 Axes>"
            ]
          },
          "metadata": {}
        }
      ]
    },
    {
      "cell_type": "markdown",
      "metadata": {
        "id": "MTvrvoucJhMI"
      },
      "source": [
        "El gráfico indica que los clientes con tenencia de vivencia propia , son más propensos a caer en Default, e incumplir con los pagos, respecto de los clientes con tenencia de vivienda sin pagar."
      ]
    },
    {
      "cell_type": "code",
      "metadata": {
        "colab": {
          "base_uri": "https://localhost:8080/",
          "height": 302
        },
        "id": "DMcIW_nR-v1T",
        "outputId": "2c3b6589-cd9a-4d7b-a315-1b8be96ed68a"
      },
      "source": [
        "\n",
        "sns.countplot(x= 'Saving accounts', data = credit, hue= 'Default', palette=\"CMRmap_r\")"
      ],
      "execution_count": null,
      "outputs": [
        {
          "output_type": "execute_result",
          "data": {
            "text/plain": [
              "<matplotlib.axes._subplots.AxesSubplot at 0x7fb54cf4c250>"
            ]
          },
          "metadata": {},
          "execution_count": 98
        },
        {
          "output_type": "display_data",
          "data": {
            "image/png": "[encoded data removed]",
            "text/plain": [
              "<Figure size 432x288 with 1 Axes>"
            ]
          },
          "metadata": {}
        }
      ]
    },
    {
      "cell_type": "markdown",
      "metadata": {
        "id": "E3EAlkTuItP1"
      },
      "source": [
        "Se observa que los clientes  con ingresos bajos o moderados 'tienen más probabilidades de incumplir que el resto de los  clientes"
      ]
    },
    {
      "cell_type": "code",
      "metadata": {
        "colab": {
          "base_uri": "https://localhost:8080/",
          "height": 302
        },
        "id": "VDjO2OKP_Dfr",
        "outputId": "b9201e1c-1009-4039-8c12-184ef5c67cb6"
      },
      "source": [
        "\n",
        "sns.countplot(x= 'Checking account', data = credit, hue= 'Default', palette='Accent_r')"
      ],
      "execution_count": null,
      "outputs": [
        {
          "output_type": "execute_result",
          "data": {
            "text/plain": [
              "<matplotlib.axes._subplots.AxesSubplot at 0x7fb54ce49990>"
            ]
          },
          "metadata": {},
          "execution_count": 99
        },
        {
          "output_type": "display_data",
          "data": {
            "image/png": "[encoded data removed]",
            "text/plain": [
              "<Figure size 432x288 with 1 Axes>"
            ]
          },
          "metadata": {}
        }
      ]
    },
    {
      "cell_type": "markdown",
      "metadata": {
        "id": "aJKePzDnIS7P"
      },
      "source": [
        "Por lo tanto, los clientes  con ingresos bajos o moderados tienen proporcionalmente más probabilidades de incumplir que los clientes de ingresos bajos."
      ]
    },
    {
      "cell_type": "code",
      "metadata": {
        "colab": {
          "base_uri": "https://localhost:8080/"
        },
        "id": "EXco1LieoP0Y",
        "outputId": "21a7f381-0a6c-4e48-9a07-38a81ede5f2f"
      },
      "source": [
        "print(\"\\nLittle Income :\\n\",credit[credit['Checking account'] == 'little']['Default'].value_counts().to_frame())\n",
        "print(\"\\nModerate Income :\\n\",credit[credit['Checking account'] == 'moderate']['Default'].value_counts().to_frame())\n"
      ],
      "execution_count": null,
      "outputs": [
        {
          "output_type": "stream",
          "name": "stdout",
          "text": [
            "\n",
            "Little Income :\n",
            "       Default\n",
            "good      487\n",
            "bad       181\n",
            "\n",
            "Moderate Income :\n",
            "       Default\n",
            "good      164\n",
            "bad       105\n"
          ]
        }
      ]
    },
    {
      "cell_type": "markdown",
      "metadata": {
        "id": "oa5_koKva2FO"
      },
      "source": [
        "**Proporción de cuentas de corriente con ingresos little o moderate y su nivel de Default**"
      ]
    },
    {
      "cell_type": "code",
      "metadata": {
        "colab": {
          "base_uri": "https://localhost:8080/"
        },
        "id": "x0pRE6yV0RaJ",
        "outputId": "b837e4d4-c9f9-439f-acc9-0525e59f2408"
      },
      "source": [
        "print(\"\\nModerate Income :\\n\",credit[credit['Checking account'] == 'moderate']['Default'].value_counts().to_frame())"
      ],
      "execution_count": null,
      "outputs": [
        {
          "output_type": "stream",
          "name": "stdout",
          "text": [
            "\n",
            "Moderate Income :\n",
            "       Default\n",
            "good      164\n",
            "bad       105\n"
          ]
        }
      ]
    },
    {
      "cell_type": "markdown",
      "metadata": {
        "id": "KiBizFh5okFE"
      },
      "source": [
        "**Identificando la lista de valores outliers para una variable particular**"
      ]
    },
    {
      "cell_type": "code",
      "metadata": {
        "colab": {
          "base_uri": "https://localhost:8080/",
          "height": 716
        },
        "id": "kMLRlkl7odZw",
        "outputId": "4da112b0-9356-49f7-fa15-deeaba538084"
      },
      "source": [
        "#@title Detección de Fraude en Tarjetas de Crédito\n",
        "from IPython.display import Image\n",
        "Image(\"/content/drive/MyDrive/outliers.png\")"
      ],
      "execution_count": null,
      "outputs": [
        {
          "output_type": "execute_result",
          "data": {
            "image/png": "[encoded data removed]",
            "text/plain": [
              "<IPython.core.display.Image object>"
            ]
          },
          "metadata": {},
          "execution_count": 102
        }
      ]
    },
    {
      "cell_type": "code",
      "metadata": {
        "colab": {
          "base_uri": "https://localhost:8080/",
          "height": 1000
        },
        "id": "siL7SBVHoeEP",
        "outputId": "ff5bce76-c411-459d-d4cb-cd690ad9d712"
      },
      "source": [
        "import pandas as pd\n",
        "import seaborn as sns\n",
        "from matplotlib import pyplot as plt\n",
        "from statsmodels.graphics.gofplots import qqplot\n",
        "#train = pd.read_csv('../input/titanic/train.csv')\n",
        "\n",
        "\n",
        "# Grafico de caja\n",
        "def Box_plots(df):\n",
        "    plt.figure(figsize=(10, 4))\n",
        "    plt.title(\"Box Plot\")\n",
        "    sns.boxplot(df, color=\"#9b59b6\")\n",
        "    plt.show()\n",
        "Box_plots(credit['Credit amount'])\n",
        "\n",
        "\n",
        "#istograma\n",
        "def hist_plots(df):\n",
        "    plt.figure(figsize=(10, 4))\n",
        "    plt.hist(df, bins=7, color = \"#e24a33\",edgecolor='green')\n",
        "    plt.title(\"Histogram Plot\")\n",
        "    plt.show()\n",
        "hist_plots(credit['Credit amount'])\n",
        "\n",
        "\n",
        "\n",
        "def dist_plots(df):\n",
        "    plt.figure(figsize=(10, 4))\n",
        "    sns.distplot(df,color = \"skyblue\",bins=9)\n",
        "    plt.title(\"Distribution plot\")\n",
        "    sns.despine()\n",
        "    plt.show()\n",
        "dist_plots(credit['Credit amount'])\n",
        "\n",
        "\n",
        "# Gráfico qq plot de normalidad\n",
        "def qq_plots(df):\n",
        "    plt.figure(figsize=(10, 4))\n",
        "    qqplot(df,line='s')\n",
        "    plt.title(\"Normal QQPlot\")\n",
        "    plt.show()\n",
        "qq_plots(credit['Credit amount'])\n"
      ],
      "execution_count": null,
      "outputs": [
        {
          "output_type": "stream",
          "name": "stderr",
          "text": [
            "/usr/local/lib/python3.7/dist-packages/seaborn/_decorators.py:43: FutureWarning:\n",
            "\n",
            "Pass the following variable as a keyword arg: x. From version 0.12, the only valid positional argument will be `data`, and passing other arguments without an explicit keyword will result in an error or misinterpretation.\n",
            "\n"
          ]
        },
        {
          "output_type": "display_data",
          "data": {
            "image/png": "[encoded data removed]",
            "text/plain": [
              "<Figure size 720x288 with 1 Axes>"
            ]
          },
          "metadata": {}
        },
        {
          "output_type": "display_data",
          "data": {
            "image/png": "[encoded data removed]",
            "text/plain": [
              "<Figure size 720x288 with 1 Axes>"
            ]
          },
          "metadata": {}
        },
        {
          "output_type": "stream",
          "name": "stderr",
          "text": [
            "/usr/local/lib/python3.7/dist-packages/seaborn/distributions.py:2619: FutureWarning:\n",
            "\n",
            "`distplot` is a deprecated function and will be removed in a future version. Please adapt your code to use either `displot` (a figure-level function with similar flexibility) or `histplot` (an axes-level function for histograms).\n",
            "\n"
          ]
        },
        {
          "output_type": "display_data",
          "data": {
            "image/png": "[encoded data removed]",
            "text/plain": [
              "<Figure size 720x288 with 1 Axes>"
            ]
          },
          "metadata": {}
        },
        {
          "output_type": "display_data",
          "data": {
            "text/plain": [
              "<Figure size 720x288 with 0 Axes>"
            ]
          },
          "metadata": {}
        },
        {
          "output_type": "display_data",
          "data": {
            "image/png": "[encoded data removed]",
            "text/plain": [
              "<Figure size 432x288 with 1 Axes>"
            ]
          },
          "metadata": {}
        }
      ]
    },
    {
      "cell_type": "markdown",
      "metadata": {
        "id": "L7IY8hBwVDv7"
      },
      "source": [
        "Los gráficos Box plot, histograma con curva normal ajustada, y qq plot de normalidad, indican que la cantidad de Credit Amount, posee valores atipicos (outliers) , además, también se observa asimetria por la derecha, y desvio de la variable con respecto a la normalidad, por lo que al aplicar un test estadístico, muy probablemente esta variable no se distribuye de forma normal.\n"
      ]
    },
    {
      "cell_type": "code",
      "metadata": {
        "colab": {
          "base_uri": "https://localhost:8080/",
          "height": 542
        },
        "id": "n3B4PEDEo_A2",
        "outputId": "0dfb74c4-636e-4199-f3b3-1a92bc5acde7"
      },
      "source": [
        "  # Boxplot de Duration\n",
        "\n",
        "import plotly.express as px\n",
        "import pandas as pd\n",
        "\n",
        "#df = pd.read_csv(\"../data/gapminder_2007.csv\")\n",
        "\n",
        "#print(df.head())\n",
        "\n",
        "plot = px.box(data_frame=credit,\n",
        "              \n",
        "              y='Duration',\n",
        "              title=\"Duration\")\n",
        "\n",
        "plot.show()"
      ],
      "execution_count": null,
      "outputs": [
        {
          "output_type": "display_data",
          "data": {
            "text/html": [
              "<html>\n",
              "<head><meta charset=\"utf-8\" /></head>\n",
              "<body>\n",
              "    <div>\n",
              "            <script src=\"https://cdnjs.cloudflare.com/ajax/libs/mathjax/2.7.5/MathJax.js?config=TeX-AMS-MML_SVG\"></script><script type=\"text/javascript\">if (window.MathJax) {MathJax.Hub.Config({SVG: {font: \"STIX-Web\"}});}</script>\n",
              "                <script type=\"text/javascript\">window.PlotlyConfig = {MathJaxConfig: 'local'};</script>\n",
              "        <script src=\"https://cdn.plot.ly/plotly-latest.min.js\"></script>    \n",
              "            <div id=\"ed5d25f8-a21f-4a20-b8bb-f418ef8b7e60\" class=\"plotly-graph-div\" style=\"height:525px; width:100%;\"></div>\n",
              "            <script type=\"text/javascript\">\n",
              "                \n",
              "                    window.PLOTLYENV=window.PLOTLYENV || {};\n",
              "                    \n",
              "                if (document.getElementById(\"ed5d25f8-a21f-4a20-b8bb-f418ef8b7e60\")) {\n",
              "                    Plotly.newPlot(\n",
              "                        'ed5d25f8-a21f-4a20-b8bb-f418ef8b7e60',\n",
              "                        [{\"alignmentgroup\": \"True\", \"hoverlabel\": {\"namelength\": 0}, \"hovertemplate\": \"Duration=%{y}\", \"legendgroup\": \"\", \"marker\": {\"color\": \"#636efa\"}, \"name\": \"\", \"notched\": false, \"offsetgroup\": \"\", \"orientation\": \"v\", \"showlegend\": false, \"type\": \"box\", \"x0\": \" \", \"xaxis\": \"x\", \"y\": [6, 48, 12, 42, 24, 36, 24, 36, 12, 30, 12, 48, 12, 24, 15, 24, 24, 30, 24, 24, 9, 6, 10, 12, 10, 6, 6, 12, 7, 60, 18, 24, 18, 12, 12, 45, 48, 18, 10, 9, 30, 12, 18, 30, 48, 11, 36, 6, 11, 12, 24, 27, 12, 18, 36, 6, 12, 36, 18, 36, 9, 15, 36, 48, 24, 27, 12, 12, 36, 36, 36, 7, 8, 42, 36, 12, 42, 11, 54, 30, 24, 15, 18, 24, 10, 12, 18, 36, 18, 12, 12, 12, 12, 24, 12, 54, 12, 18, 36, 20, 24, 36, 6, 9, 12, 24, 18, 12, 24, 14, 6, 15, 18, 36, 12, 48, 42, 10, 33, 12, 21, 24, 12, 10, 18, 12, 12, 12, 12, 12, 48, 36, 15, 18, 60, 12, 27, 12, 15, 12, 6, 36, 27, 18, 21, 48, 6, 12, 36, 18, 6, 10, 36, 24, 24, 12, 9, 12, 24, 6, 24, 18, 15, 10, 36, 6, 18, 11, 24, 24, 15, 12, 24, 8, 21, 30, 12, 6, 12, 21, 36, 36, 21, 24, 18, 15, 9, 16, 12, 18, 24, 48, 27, 6, 45, 9, 6, 12, 24, 18, 9, 12, 27, 12, 12, 30, 12, 12, 24, 12, 9, 36, 27, 30, 36, 6, 18, 36, 24, 10, 12, 12, 12, 24, 15, 36, 48, 12, 9, 24, 36, 9, 12, 18, 4, 24, 6, 21, 12, 30, 24, 6, 48, 12, 12, 24, 12, 6, 24, 18, 6, 12, 30, 24, 9, 60, 24, 12, 15, 11, 12, 24, 18, 12, 10, 15, 36, 24, 14, 24, 18, 12, 48, 48, 30, 9, 18, 12, 6, 24, 15, 12, 18, 15, 24, 47, 48, 48, 12, 24, 12, 36, 24, 42, 48, 48, 12, 10, 18, 21, 6, 36, 24, 10, 48, 6, 30, 12, 8, 9, 48, 24, 24, 12, 4, 36, 12, 24, 12, 15, 30, 24, 24, 18, 18, 8, 12, 24, 36, 6, 24, 18, 60, 48, 24, 6, 13, 15, 24, 10, 24, 21, 18, 18, 10, 15, 13, 24, 6, 9, 9, 9, 18, 12, 10, 24, 12, 36, 12, 30, 18, 12, 12, 6, 18, 12, 18, 18, 36, 18, 36, 18, 10, 60, 60, 48, 18, 7, 36, 6, 20, 18, 22, 12, 30, 18, 18, 18, 15, 9, 18, 12, 36, 6, 9, 39, 12, 36, 12, 24, 18, 18, 24, 14, 18, 24, 24, 15, 24, 12, 24, 33, 12, 10, 24, 36, 12, 18, 21, 18, 15, 12, 12, 21, 12, 18, 28, 18, 9, 18, 5, 24, 6, 24, 9, 12, 6, 24, 42, 12, 12, 12, 20, 12, 48, 9, 36, 7, 12, 15, 36, 6, 12, 24, 24, 24, 11, 12, 6, 18, 36, 15, 12, 12, 18, 24, 24, 48, 33, 24, 24, 6, 9, 6, 18, 18, 39, 24, 12, 15, 12, 24, 30, 15, 12, 6, 12, 24, 10, 6, 12, 27, 6, 6, 12, 24, 36, 24, 18, 6, 24, 36, 9, 24, 24, 10, 15, 15, 24, 39, 12, 36, 15, 12, 24, 6, 6, 36, 6, 6, 24, 18, 48, 24, 18, 26, 15, 4, 36, 6, 36, 15, 12, 24, 24, 21, 6, 18, 48, 18, 12, 24, 30, 18, 12, 24, 24, 24, 12, 48, 12, 6, 48, 12, 9, 12, 18, 21, 24, 18, 24, 24, 6, 36, 24, 24, 12, 24, 48, 48, 24, 30, 24, 15, 9, 15, 12, 24, 36, 24, 18, 12, 9, 36, 12, 18, 9, 12, 18, 12, 12, 24, 21, 24, 24, 6, 24, 24, 18, 24, 7, 9, 24, 36, 10, 24, 24, 36, 18, 15, 12, 10, 21, 24, 18, 48, 60, 6, 30, 12, 21, 18, 48, 12, 18, 15, 6, 9, 42, 9, 24, 18, 15, 9, 24, 12, 24, 60, 12, 42, 18, 15, 15, 24, 18, 36, 30, 12, 24, 12, 48, 12, 24, 36, 24, 14, 12, 48, 30, 18, 12, 12, 21, 6, 6, 24, 30, 48, 12, 30, 24, 36, 60, 6, 21, 30, 24, 72, 24, 18, 6, 12, 15, 24, 36, 60, 10, 36, 9, 12, 15, 15, 24, 6, 24, 6, 12, 12, 18, 15, 12, 48, 24, 30, 27, 15, 48, 12, 9, 9, 18, 6, 21, 9, 60, 30, 30, 18, 24, 20, 9, 6, 12, 9, 27, 6, 15, 18, 48, 24, 24, 24, 8, 24, 4, 36, 24, 18, 6, 30, 24, 10, 21, 24, 39, 13, 15, 12, 21, 15, 6, 18, 12, 30, 12, 24, 6, 15, 24, 12, 15, 18, 12, 21, 24, 12, 30, 10, 12, 12, 24, 36, 21, 24, 12, 24, 36, 18, 36, 18, 39, 24, 12, 12, 20, 18, 22, 48, 48, 40, 21, 24, 6, 24, 24, 9, 18, 12, 24, 9, 24, 18, 20, 12, 12, 36, 6, 12, 42, 15, 8, 6, 36, 48, 48, 36, 6, 6, 36, 18, 12, 12, 36, 8, 18, 21, 18, 18, 36, 48, 24, 18, 45, 24, 15, 12, 12, 4, 24, 24, 36, 21, 18, 24, 18, 21, 18, 24, 9, 12, 20, 24, 15, 18, 36, 24, 10, 15, 15, 9, 24, 18, 24, 27, 10, 15, 18, 12, 36, 12, 36, 6, 24, 15, 12, 11, 18, 36, 9, 30, 24, 24, 30, 18, 24, 12, 24, 48, 36, 28, 27, 15, 12, 36, 18, 36, 21, 12, 15, 18, 16, 20, 36, 15, 24, 12, 21, 36, 15, 9, 36, 24, 30, 11, 24, 48, 10, 6, 24, 24, 18, 48, 9, 12, 24, 12, 18, 48, 30, 12, 24, 9, 9, 12, 12, 30, 9, 6, 60, 24, 12, 10, 24, 4, 15, 48, 24, 12, 18, 24, 18, 36, 24, 36, 12, 24, 30, 9, 28, 24, 6, 21, 15, 24, 6, 30, 27, 15, 42, 11, 15, 24, 24, 60, 30, 24, 6, 18, 24, 15, 30, 48, 21, 36, 24, 15, 42, 13, 24, 24, 12, 15, 18, 36, 12, 12, 30, 12, 45, 45], \"y0\": \" \", \"yaxis\": \"y\"}],\n",
              "                        {\"boxmode\": \"group\", \"legend\": {\"tracegroupgap\": 0}, \"template\": {\"data\": {\"bar\": [{\"error_x\": {\"color\": \"#2a3f5f\"}, \"error_y\": {\"color\": \"#2a3f5f\"}, \"marker\": {\"line\": {\"color\": \"#E5ECF6\", \"width\": 0.5}}, \"type\": \"bar\"}], \"barpolar\": [{\"marker\": {\"line\": {\"color\": \"#E5ECF6\", \"width\": 0.5}}, \"type\": \"barpolar\"}], \"carpet\": [{\"aaxis\": {\"endlinecolor\": \"#2a3f5f\", \"gridcolor\": \"white\", \"linecolor\": \"white\", \"minorgridcolor\": \"white\", \"startlinecolor\": \"#2a3f5f\"}, \"baxis\": {\"endlinecolor\": \"#2a3f5f\", \"gridcolor\": \"white\", \"linecolor\": \"white\", \"minorgridcolor\": \"white\", \"startlinecolor\": \"#2a3f5f\"}, \"type\": \"carpet\"}], \"choropleth\": [{\"colorbar\": {\"outlinewidth\": 0, \"ticks\": \"\"}, \"type\": \"choropleth\"}], \"contour\": [{\"colorbar\": {\"outlinewidth\": 0, \"ticks\": \"\"}, \"colorscale\": [[0.0, \"#0d0887\"], [0.1111111111111111, \"#46039f\"], [0.2222222222222222, \"#7201a8\"], [0.3333333333333333, \"#9c179e\"], [0.4444444444444444, \"#bd3786\"], [0.5555555555555556, \"#d8576b\"], [0.6666666666666666, \"#ed7953\"], [0.7777777777777778, \"#fb9f3a\"], [0.8888888888888888, \"#fdca26\"], [1.0, \"#f0f921\"]], \"type\": \"contour\"}], \"contourcarpet\": [{\"colorbar\": {\"outlinewidth\": 0, \"ticks\": \"\"}, \"type\": \"contourcarpet\"}], \"heatmap\": [{\"colorbar\": {\"outlinewidth\": 0, \"ticks\": \"\"}, \"colorscale\": [[0.0, \"#0d0887\"], [0.1111111111111111, \"#46039f\"], [0.2222222222222222, \"#7201a8\"], [0.3333333333333333, \"#9c179e\"], [0.4444444444444444, \"#bd3786\"], [0.5555555555555556, \"#d8576b\"], [0.6666666666666666, \"#ed7953\"], [0.7777777777777778, \"#fb9f3a\"], [0.8888888888888888, \"#fdca26\"], [1.0, \"#f0f921\"]], \"type\": \"heatmap\"}], \"heatmapgl\": [{\"colorbar\": {\"outlinewidth\": 0, \"ticks\": \"\"}, \"colorscale\": [[0.0, \"#0d0887\"], [0.1111111111111111, \"#46039f\"], [0.2222222222222222, \"#7201a8\"], [0.3333333333333333, \"#9c179e\"], [0.4444444444444444, \"#bd3786\"], [0.5555555555555556, \"#d8576b\"], [0.6666666666666666, \"#ed7953\"], [0.7777777777777778, \"#fb9f3a\"], [0.8888888888888888, \"#fdca26\"], [1.0, \"#f0f921\"]], \"type\": \"heatmapgl\"}], \"histogram\": [{\"marker\": {\"colorbar\": {\"outlinewidth\": 0, \"ticks\": \"\"}}, \"type\": \"histogram\"}], \"histogram2d\": [{\"colorbar\": {\"outlinewidth\": 0, \"ticks\": \"\"}, \"colorscale\": [[0.0, \"#0d0887\"], [0.1111111111111111, \"#46039f\"], [0.2222222222222222, \"#7201a8\"], [0.3333333333333333, \"#9c179e\"], [0.4444444444444444, \"#bd3786\"], [0.5555555555555556, \"#d8576b\"], [0.6666666666666666, \"#ed7953\"], [0.7777777777777778, \"#fb9f3a\"], [0.8888888888888888, \"#fdca26\"], [1.0, \"#f0f921\"]], \"type\": \"histogram2d\"}], \"histogram2dcontour\": [{\"colorbar\": {\"outlinewidth\": 0, \"ticks\": \"\"}, \"colorscale\": [[0.0, \"#0d0887\"], [0.1111111111111111, \"#46039f\"], [0.2222222222222222, \"#7201a8\"], [0.3333333333333333, \"#9c179e\"], [0.4444444444444444, \"#bd3786\"], [0.5555555555555556, \"#d8576b\"], [0.6666666666666666, \"#ed7953\"], [0.7777777777777778, \"#fb9f3a\"], [0.8888888888888888, \"#fdca26\"], [1.0, \"#f0f921\"]], \"type\": \"histogram2dcontour\"}], \"mesh3d\": [{\"colorbar\": {\"outlinewidth\": 0, \"ticks\": \"\"}, \"type\": \"mesh3d\"}], \"parcoords\": [{\"line\": {\"colorbar\": {\"outlinewidth\": 0, \"ticks\": \"\"}}, \"type\": \"parcoords\"}], \"pie\": [{\"automargin\": true, \"type\": \"pie\"}], \"scatter\": [{\"marker\": {\"colorbar\": {\"outlinewidth\": 0, \"ticks\": \"\"}}, \"type\": \"scatter\"}], \"scatter3d\": [{\"line\": {\"colorbar\": {\"outlinewidth\": 0, \"ticks\": \"\"}}, \"marker\": {\"colorbar\": {\"outlinewidth\": 0, \"ticks\": \"\"}}, \"type\": \"scatter3d\"}], \"scattercarpet\": [{\"marker\": {\"colorbar\": {\"outlinewidth\": 0, \"ticks\": \"\"}}, \"type\": \"scattercarpet\"}], \"scattergeo\": [{\"marker\": {\"colorbar\": {\"outlinewidth\": 0, \"ticks\": \"\"}}, \"type\": \"scattergeo\"}], \"scattergl\": [{\"marker\": {\"colorbar\": {\"outlinewidth\": 0, \"ticks\": \"\"}}, \"type\": \"scattergl\"}], \"scattermapbox\": [{\"marker\": {\"colorbar\": {\"outlinewidth\": 0, \"ticks\": \"\"}}, \"type\": \"scattermapbox\"}], \"scatterpolar\": [{\"marker\": {\"colorbar\": {\"outlinewidth\": 0, \"ticks\": \"\"}}, \"type\": \"scatterpolar\"}], \"scatterpolargl\": [{\"marker\": {\"colorbar\": {\"outlinewidth\": 0, \"ticks\": \"\"}}, \"type\": \"scatterpolargl\"}], \"scatterternary\": [{\"marker\": {\"colorbar\": {\"outlinewidth\": 0, \"ticks\": \"\"}}, \"type\": \"scatterternary\"}], \"surface\": [{\"colorbar\": {\"outlinewidth\": 0, \"ticks\": \"\"}, \"colorscale\": [[0.0, \"#0d0887\"], [0.1111111111111111, \"#46039f\"], [0.2222222222222222, \"#7201a8\"], [0.3333333333333333, \"#9c179e\"], [0.4444444444444444, \"#bd3786\"], [0.5555555555555556, \"#d8576b\"], [0.6666666666666666, \"#ed7953\"], [0.7777777777777778, \"#fb9f3a\"], [0.8888888888888888, \"#fdca26\"], [1.0, \"#f0f921\"]], \"type\": \"surface\"}], \"table\": [{\"cells\": {\"fill\": {\"color\": \"#EBF0F8\"}, \"line\": {\"color\": \"white\"}}, \"header\": {\"fill\": {\"color\": \"#C8D4E3\"}, \"line\": {\"color\": \"white\"}}, \"type\": \"table\"}]}, \"layout\": {\"annotationdefaults\": {\"arrowcolor\": \"#2a3f5f\", \"arrowhead\": 0, \"arrowwidth\": 1}, \"coloraxis\": {\"colorbar\": {\"outlinewidth\": 0, \"ticks\": \"\"}}, \"colorscale\": {\"diverging\": [[0, \"#8e0152\"], [0.1, \"#c51b7d\"], [0.2, \"#de77ae\"], [0.3, \"#f1b6da\"], [0.4, \"#fde0ef\"], [0.5, \"#f7f7f7\"], [0.6, \"#e6f5d0\"], [0.7, \"#b8e186\"], [0.8, \"#7fbc41\"], [0.9, \"#4d9221\"], [1, \"#276419\"]], \"sequential\": [[0.0, \"#0d0887\"], [0.1111111111111111, \"#46039f\"], [0.2222222222222222, \"#7201a8\"], [0.3333333333333333, \"#9c179e\"], [0.4444444444444444, \"#bd3786\"], [0.5555555555555556, \"#d8576b\"], [0.6666666666666666, \"#ed7953\"], [0.7777777777777778, \"#fb9f3a\"], [0.8888888888888888, \"#fdca26\"], [1.0, \"#f0f921\"]], \"sequentialminus\": [[0.0, \"#0d0887\"], [0.1111111111111111, \"#46039f\"], [0.2222222222222222, \"#7201a8\"], [0.3333333333333333, \"#9c179e\"], [0.4444444444444444, \"#bd3786\"], [0.5555555555555556, \"#d8576b\"], [0.6666666666666666, \"#ed7953\"], [0.7777777777777778, \"#fb9f3a\"], [0.8888888888888888, \"#fdca26\"], [1.0, \"#f0f921\"]]}, \"colorway\": [\"#636efa\", \"#EF553B\", \"#00cc96\", \"#ab63fa\", \"#FFA15A\", \"#19d3f3\", \"#FF6692\", \"#B6E880\", \"#FF97FF\", \"#FECB52\"], \"font\": {\"color\": \"#2a3f5f\"}, \"geo\": {\"bgcolor\": \"white\", \"lakecolor\": \"white\", \"landcolor\": \"#E5ECF6\", \"showlakes\": true, \"showland\": true, \"subunitcolor\": \"white\"}, \"hoverlabel\": {\"align\": \"left\"}, \"hovermode\": \"closest\", \"mapbox\": {\"style\": \"light\"}, \"paper_bgcolor\": \"white\", \"plot_bgcolor\": \"#E5ECF6\", \"polar\": {\"angularaxis\": {\"gridcolor\": \"white\", \"linecolor\": \"white\", \"ticks\": \"\"}, \"bgcolor\": \"#E5ECF6\", \"radialaxis\": {\"gridcolor\": \"white\", \"linecolor\": \"white\", \"ticks\": \"\"}}, \"scene\": {\"xaxis\": {\"backgroundcolor\": \"#E5ECF6\", \"gridcolor\": \"white\", \"gridwidth\": 2, \"linecolor\": \"white\", \"showbackground\": true, \"ticks\": \"\", \"zerolinecolor\": \"white\"}, \"yaxis\": {\"backgroundcolor\": \"#E5ECF6\", \"gridcolor\": \"white\", \"gridwidth\": 2, \"linecolor\": \"white\", \"showbackground\": true, \"ticks\": \"\", \"zerolinecolor\": \"white\"}, \"zaxis\": {\"backgroundcolor\": \"#E5ECF6\", \"gridcolor\": \"white\", \"gridwidth\": 2, \"linecolor\": \"white\", \"showbackground\": true, \"ticks\": \"\", \"zerolinecolor\": \"white\"}}, \"shapedefaults\": {\"line\": {\"color\": \"#2a3f5f\"}}, \"ternary\": {\"aaxis\": {\"gridcolor\": \"white\", \"linecolor\": \"white\", \"ticks\": \"\"}, \"baxis\": {\"gridcolor\": \"white\", \"linecolor\": \"white\", \"ticks\": \"\"}, \"bgcolor\": \"#E5ECF6\", \"caxis\": {\"gridcolor\": \"white\", \"linecolor\": \"white\", \"ticks\": \"\"}}, \"title\": {\"x\": 0.05}, \"xaxis\": {\"automargin\": true, \"gridcolor\": \"white\", \"linecolor\": \"white\", \"ticks\": \"\", \"title\": {\"standoff\": 15}, \"zerolinecolor\": \"white\", \"zerolinewidth\": 2}, \"yaxis\": {\"automargin\": true, \"gridcolor\": \"white\", \"linecolor\": \"white\", \"ticks\": \"\", \"title\": {\"standoff\": 15}, \"zerolinecolor\": \"white\", \"zerolinewidth\": 2}}}, \"title\": {\"text\": \"Duration\"}, \"xaxis\": {\"anchor\": \"y\", \"domain\": [0.0, 1.0]}, \"yaxis\": {\"anchor\": \"x\", \"domain\": [0.0, 1.0], \"title\": {\"text\": \"Duration\"}}},\n",
              "                        {\"responsive\": true}\n",
              "                    ).then(function(){\n",
              "                            \n",
              "var gd = document.getElementById('ed5d25f8-a21f-4a20-b8bb-f418ef8b7e60');\n",
              "var x = new MutationObserver(function (mutations, observer) {{\n",
              "        var display = window.getComputedStyle(gd).display;\n",
              "        if (!display || display === 'none') {{\n",
              "            console.log([gd, 'removed!']);\n",
              "            Plotly.purge(gd);\n",
              "            observer.disconnect();\n",
              "        }}\n",
              "}});\n",
              "\n",
              "// Listen for the removal of the full notebook cells\n",
              "var notebookContainer = gd.closest('#notebook-container');\n",
              "if (notebookContainer) {{\n",
              "    x.observe(notebookContainer, {childList: true});\n",
              "}}\n",
              "\n",
              "// Listen for the clearing of the current output cell\n",
              "var outputEl = gd.closest('.output');\n",
              "if (outputEl) {{\n",
              "    x.observe(outputEl, {childList: true});\n",
              "}}\n",
              "\n",
              "                        })\n",
              "                };\n",
              "                \n",
              "            </script>\n",
              "        </div>\n",
              "</body>\n",
              "</html>"
            ]
          },
          "metadata": {}
        }
      ]
    },
    {
      "cell_type": "code",
      "metadata": {
        "colab": {
          "base_uri": "https://localhost:8080/",
          "height": 408
        },
        "id": "nGnZ6vBAo_6_",
        "outputId": "4d142fbb-b3ab-41ac-8221-a339d65cb89a"
      },
      "source": [
        "#Histograma con curva normal ajustada de duration\n",
        "\n",
        "from scipy.stats import norm\n",
        "\n",
        "sns.distplot(credit['Duration'],kde=False,bins=10,fit=norm,color='b').set_title('Distribution Plot of Duration')"
      ],
      "execution_count": null,
      "outputs": [
        {
          "output_type": "stream",
          "name": "stderr",
          "text": [
            "/usr/local/lib/python3.7/dist-packages/seaborn/distributions.py:2619: FutureWarning:\n",
            "\n",
            "`distplot` is a deprecated function and will be removed in a future version. Please adapt your code to use either `displot` (a figure-level function with similar flexibility) or `histplot` (an axes-level function for histograms).\n",
            "\n"
          ]
        },
        {
          "output_type": "execute_result",
          "data": {
            "text/plain": [
              "Text(0.5, 1.0, 'Distribution Plot of Credit amount')"
            ]
          },
          "metadata": {},
          "execution_count": 105
        },
        {
          "output_type": "display_data",
          "data": {
            "image/png": "[encoded data removed]",
            "text/plain": [
              "<Figure size 432x288 with 1 Axes>"
            ]
          },
          "metadata": {}
        }
      ]
    },
    {
      "cell_type": "markdown",
      "metadata": {
        "id": "Gz_bwhDlWUJU"
      },
      "source": [
        "Los gráficos Box plot, histograma con curva normal ajustada, y qq plot de normalidad, indican que la varaible Duration, posee valores atipicos (outliers) , además, también se observa asimetria por la derecha, y desvio de la variable con respecto a la normalidad, por lo que al aplicar un test estadístico, muy probablemente esta variable no se distribuye de forma normal."
      ]
    },
    {
      "cell_type": "code",
      "metadata": {
        "colab": {
          "base_uri": "https://localhost:8080/",
          "height": 302
        },
        "id": "uryAv10Bpdeh",
        "outputId": "4ecd561a-b893-4986-9043-19ef0afbd47a"
      },
      "source": [
        "#Boxplot de la Age\n",
        "\n",
        "sns.boxplot(x=credit['Age'],color='darkviolet')"
      ],
      "execution_count": null,
      "outputs": [
        {
          "output_type": "execute_result",
          "data": {
            "text/plain": [
              "<matplotlib.axes._subplots.AxesSubplot at 0x7fb54d696750>"
            ]
          },
          "metadata": {},
          "execution_count": 106
        },
        {
          "output_type": "display_data",
          "data": {
            "image/png": "[encoded data removed]",
            "text/plain": [
              "<Figure size 432x288 with 1 Axes>"
            ]
          },
          "metadata": {}
        }
      ]
    },
    {
      "cell_type": "code",
      "metadata": {
        "colab": {
          "base_uri": "https://localhost:8080/",
          "height": 408
        },
        "id": "ZNzq6MMepfRN",
        "outputId": "d6f5ed40-552d-45b3-9885-dc207ffcf186"
      },
      "source": [
        "#Histograma con curva normal ajustada de Age\n",
        "\n",
        "from scipy.stats import norm\n",
        "\n",
        "sns.distplot(credit['Age'],kde=False,bins=7,fit=norm,color='g').set_title('Distribution Plot Age')"
      ],
      "execution_count": null,
      "outputs": [
        {
          "output_type": "stream",
          "name": "stderr",
          "text": [
            "/usr/local/lib/python3.7/dist-packages/seaborn/distributions.py:2619: FutureWarning:\n",
            "\n",
            "`distplot` is a deprecated function and will be removed in a future version. Please adapt your code to use either `displot` (a figure-level function with similar flexibility) or `histplot` (an axes-level function for histograms).\n",
            "\n"
          ]
        },
        {
          "output_type": "execute_result",
          "data": {
            "text/plain": [
              "Text(0.5, 1.0, 'Distribution Plot Age')"
            ]
          },
          "metadata": {},
          "execution_count": 107
        },
        {
          "output_type": "display_data",
          "data": {
            "image/png": "[encoded data removed]",
            "text/plain": [
              "<Figure size 432x288 with 1 Axes>"
            ]
          },
          "metadata": {}
        }
      ]
    },
    {
      "cell_type": "markdown",
      "metadata": {
        "id": "Zfmu1hf1WYt8"
      },
      "source": [
        "Los gráficos Box plot, histograma con curva normal ajustada, y qq plot de normalidad, indican que la varaible Age, posee valores atipicos (outliers) , además, también se observa asimetria por la derecha, y desvio de la variable con respecto a la normalidad, por lo que al aplicar un test estadístico, muy probablemente esta variable no se distribuye de forma normal."
      ]
    },
    {
      "cell_type": "markdown",
      "metadata": {
        "id": "qirZ7iCMp_Ai"
      },
      "source": [
        "**Identificando la lista de valores outliers para una variable Credit Amount**"
      ]
    },
    {
      "cell_type": "code",
      "metadata": {
        "id": "Hgaae16Zpffw"
      },
      "source": [
        "import numpy as np\n",
        "\n",
        "#train = pd.read_csv('../input/house-prices-advanced-regression-techniques/train.csv')\n",
        "\n",
        "out=[]\n",
        "def iqr_outliers(df):\n",
        "    q1 = df.quantile(0.25)\n",
        "    q3 = df.quantile(0.75)\n",
        "    iqr = q3-q1\n",
        "    Lower_tail = q1 - 1.5 * iqr\n",
        "    Upper_tail = q3 + 1.5 * iqr\n",
        "    for i in df:\n",
        "        if i > Upper_tail or i < Lower_tail:\n",
        "            out.append(i)\n",
        "    print(\"Outliers:\",out)"
      ],
      "execution_count": null,
      "outputs": []
    },
    {
      "cell_type": "code",
      "metadata": {
        "colab": {
          "base_uri": "https://localhost:8080/"
        },
        "id": "ZSJsmjYhpftI",
        "outputId": "89eb0913-7d70-46dd-f21e-7d08ebc6aa5d"
      },
      "source": [
        "iqr_outliers(credit['Credit amount'])#"
      ],
      "execution_count": null,
      "outputs": [
        {
          "output_type": "stream",
          "name": "stdout",
          "text": [
            "Outliers: [9055, 8072, 12579, 9566, 14421, 8133, 9436, 12612, 15945, 11938, 8487, 10144, 8613, 9572, 10623, 10961, 14555, 8978, 12169, 11998, 10722, 9398, 9960, 10127, 11590, 13756, 14782, 14318, 12976, 11760, 8648, 8471, 11328, 11054, 8318, 9034, 8588, 7966, 8858, 12389, 12204, 9157, 15653, 7980, 8086, 10222, 10366, 9857, 14027, 11560, 14179, 12680, 8065, 9271, 9283, 9629, 15857, 8335, 11816, 10875, 9277, 15672, 8947, 10477, 18424, 14896, 12749, 10297, 8358, 10974, 8386, 8229]\n"
          ]
        }
      ]
    },
    {
      "cell_type": "code",
      "metadata": {
        "id": "ySmPm6nIqU-I"
      },
      "source": [
        "def out_iqr(df , column):\n",
        "    global lower,upper\n",
        "    q25, q75 = np.quantile(df[column], 0.25), np.quantile(df[column], 0.75)\n",
        "    # calculate the IQR\n",
        "    iqr = q75 - q25\n",
        "    # calculate the outlier cutoff\n",
        "    cut_off = iqr * 1.5\n",
        "    # calculate the lower and upper bound value\n",
        "    lower, upper = q25 - cut_off, q75 + cut_off\n",
        "    print('The IQR is',iqr)\n",
        "    print('The lower bound value is', lower)\n",
        "    print('The upper bound value is', upper)\n",
        "    # Calculate the number of records below and above lower and above bound value respectively\n",
        "    df1 = df[df[column] > upper]\n",
        "    df2 = df[df[column] < lower]\n",
        "    return print('Total number of outliers are', df1.shape[0]+ df2.shape[0])"
      ],
      "execution_count": null,
      "outputs": []
    },
    {
      "cell_type": "code",
      "metadata": {
        "colab": {
          "base_uri": "https://localhost:8080/"
        },
        "id": "bD5jrxZiqVJp",
        "outputId": "ad972bd3-d334-4e70-ffc1-086a65b34642"
      },
      "source": [
        "out_iqr(credit,'Credit amount')# Devuelve la cantidad de outliers y los limites box plot"
      ],
      "execution_count": null,
      "outputs": [
        {
          "output_type": "stream",
          "name": "stdout",
          "text": [
            "The IQR is 2606.75\n",
            "The lower bound value is -2544.625\n",
            "The upper bound value is 7882.375\n",
            "Total number of outliers are 72\n"
          ]
        }
      ]
    },
    {
      "cell_type": "markdown",
      "metadata": {
        "id": "JUdZOml0qlPz"
      },
      "source": [
        "**Segunda forma de detectar outliers**"
      ]
    },
    {
      "cell_type": "code",
      "metadata": {
        "colab": {
          "base_uri": "https://localhost:8080/"
        },
        "id": "q94t8vswqVMv",
        "outputId": "8ae6a495-c3d4-4259-d680-485d41d54319"
      },
      "source": [
        "Q1 = credit['Credit amount'].quantile(0.25)\n",
        "Q3 = credit['Credit amount'].quantile(0.75)\n",
        "Q1, Q3"
      ],
      "execution_count": null,
      "outputs": [
        {
          "output_type": "execute_result",
          "data": {
            "text/plain": [
              "(1365.5, 3972.25)"
            ]
          },
          "metadata": {},
          "execution_count": 112
        }
      ]
    },
    {
      "cell_type": "code",
      "metadata": {
        "colab": {
          "base_uri": "https://localhost:8080/"
        },
        "id": "VRk4x26fqVRS",
        "outputId": "0e9720b0-2e7d-4335-b024-d12173eddf08"
      },
      "source": [
        "# Rango intercuartil\n",
        "IQR = Q3 - Q1\n",
        "IQR"
      ],
      "execution_count": null,
      "outputs": [
        {
          "output_type": "execute_result",
          "data": {
            "text/plain": [
              "2606.75"
            ]
          },
          "metadata": {},
          "execution_count": 113
        }
      ]
    },
    {
      "cell_type": "code",
      "metadata": {
        "colab": {
          "base_uri": "https://localhost:8080/"
        },
        "id": "firwq-m0q-DD",
        "outputId": "93c3e669-74a4-4a16-f098-a7b0ad13971b"
      },
      "source": [
        "#Limite inferior y superior de box plot\n",
        "lower_limit = Q1 - 1.5*IQR\n",
        "upper_limit = Q3 + 1.5*IQR\n",
        "lower_limit, upper_limit"
      ],
      "execution_count": null,
      "outputs": [
        {
          "output_type": "execute_result",
          "data": {
            "text/plain": [
              "(-2544.625, 7882.375)"
            ]
          },
          "metadata": {},
          "execution_count": 114
        }
      ]
    },
    {
      "cell_type": "markdown",
      "metadata": {
        "id": "uUmdlWsYrGAG"
      },
      "source": [
        "Lista de outliers"
      ]
    },
    {
      "cell_type": "code",
      "metadata": {
        "colab": {
          "base_uri": "https://localhost:8080/",
          "height": 424
        },
        "id": "ffEyNB4rrEpb",
        "outputId": "3634f97a-cfac-4f9a-c315-81ad7680252c"
      },
      "source": [
        "#Outliers valores inferiores a limite inferior ,lower_limit = Q1 - 1.5*IQR\n",
        "#Outliers valores suoeriores  a limite inferior, upper_limit = Q3 + 1.5*IQR\n",
        "credit[(credit['Credit amount']<lower_limit)|(credit['Credit amount']>upper_limit)]"
      ],
      "execution_count": null,
      "outputs": [
        {
          "output_type": "execute_result",
          "data": {
            "text/html": [
              "<div>\n",
              "<style scoped>\n",
              "    .dataframe tbody tr th:only-of-type {\n",
              "        vertical-align: middle;\n",
              "    }\n",
              "\n",
              "    .dataframe tbody tr th {\n",
              "        vertical-align: top;\n",
              "    }\n",
              "\n",
              "    .dataframe thead th {\n",
              "        text-align: right;\n",
              "    }\n",
              "</style>\n",
              "<table border=\"1\" class=\"dataframe\">\n",
              "  <thead>\n",
              "    <tr style=\"text-align: right;\">\n",
              "      <th></th>\n",
              "      <th>Age</th>\n",
              "      <th>Sex</th>\n",
              "      <th>Job</th>\n",
              "      <th>Housing</th>\n",
              "      <th>Saving accounts</th>\n",
              "      <th>Checking account</th>\n",
              "      <th>Credit amount</th>\n",
              "      <th>Duration</th>\n",
              "      <th>Purpose</th>\n",
              "      <th>Default</th>\n",
              "    </tr>\n",
              "  </thead>\n",
              "  <tbody>\n",
              "    <tr>\n",
              "      <th>5</th>\n",
              "      <td>35</td>\n",
              "      <td>male</td>\n",
              "      <td>1</td>\n",
              "      <td>free</td>\n",
              "      <td>little</td>\n",
              "      <td>little</td>\n",
              "      <td>9055</td>\n",
              "      <td>36</td>\n",
              "      <td>education</td>\n",
              "      <td>good</td>\n",
              "    </tr>\n",
              "    <tr>\n",
              "      <th>17</th>\n",
              "      <td>25</td>\n",
              "      <td>male</td>\n",
              "      <td>2</td>\n",
              "      <td>own</td>\n",
              "      <td>little</td>\n",
              "      <td>little</td>\n",
              "      <td>8072</td>\n",
              "      <td>30</td>\n",
              "      <td>business</td>\n",
              "      <td>good</td>\n",
              "    </tr>\n",
              "    <tr>\n",
              "      <th>18</th>\n",
              "      <td>44</td>\n",
              "      <td>female</td>\n",
              "      <td>3</td>\n",
              "      <td>free</td>\n",
              "      <td>little</td>\n",
              "      <td>moderate</td>\n",
              "      <td>12579</td>\n",
              "      <td>24</td>\n",
              "      <td>car</td>\n",
              "      <td>bad</td>\n",
              "    </tr>\n",
              "    <tr>\n",
              "      <th>57</th>\n",
              "      <td>31</td>\n",
              "      <td>female</td>\n",
              "      <td>2</td>\n",
              "      <td>own</td>\n",
              "      <td>little</td>\n",
              "      <td>little</td>\n",
              "      <td>9566</td>\n",
              "      <td>36</td>\n",
              "      <td>radio/TV</td>\n",
              "      <td>good</td>\n",
              "    </tr>\n",
              "    <tr>\n",
              "      <th>63</th>\n",
              "      <td>25</td>\n",
              "      <td>male</td>\n",
              "      <td>2</td>\n",
              "      <td>own</td>\n",
              "      <td>little</td>\n",
              "      <td>moderate</td>\n",
              "      <td>14421</td>\n",
              "      <td>48</td>\n",
              "      <td>business</td>\n",
              "      <td>bad</td>\n",
              "    </tr>\n",
              "    <tr>\n",
              "      <th>...</th>\n",
              "      <td>...</td>\n",
              "      <td>...</td>\n",
              "      <td>...</td>\n",
              "      <td>...</td>\n",
              "      <td>...</td>\n",
              "      <td>...</td>\n",
              "      <td>...</td>\n",
              "      <td>...</td>\n",
              "      <td>...</td>\n",
              "      <td>...</td>\n",
              "    </tr>\n",
              "    <tr>\n",
              "      <th>927</th>\n",
              "      <td>39</td>\n",
              "      <td>male</td>\n",
              "      <td>2</td>\n",
              "      <td>free</td>\n",
              "      <td>little</td>\n",
              "      <td>little</td>\n",
              "      <td>10297</td>\n",
              "      <td>48</td>\n",
              "      <td>car</td>\n",
              "      <td>bad</td>\n",
              "    </tr>\n",
              "    <tr>\n",
              "      <th>945</th>\n",
              "      <td>30</td>\n",
              "      <td>female</td>\n",
              "      <td>2</td>\n",
              "      <td>own</td>\n",
              "      <td>quite rich</td>\n",
              "      <td>moderate</td>\n",
              "      <td>8358</td>\n",
              "      <td>48</td>\n",
              "      <td>car</td>\n",
              "      <td>good</td>\n",
              "    </tr>\n",
              "    <tr>\n",
              "      <th>953</th>\n",
              "      <td>26</td>\n",
              "      <td>female</td>\n",
              "      <td>3</td>\n",
              "      <td>own</td>\n",
              "      <td>little</td>\n",
              "      <td>little</td>\n",
              "      <td>10974</td>\n",
              "      <td>36</td>\n",
              "      <td>furniture/equipment</td>\n",
              "      <td>bad</td>\n",
              "    </tr>\n",
              "    <tr>\n",
              "      <th>980</th>\n",
              "      <td>49</td>\n",
              "      <td>male</td>\n",
              "      <td>2</td>\n",
              "      <td>own</td>\n",
              "      <td>little</td>\n",
              "      <td>moderate</td>\n",
              "      <td>8386</td>\n",
              "      <td>30</td>\n",
              "      <td>furniture/equipment</td>\n",
              "      <td>bad</td>\n",
              "    </tr>\n",
              "    <tr>\n",
              "      <th>983</th>\n",
              "      <td>26</td>\n",
              "      <td>male</td>\n",
              "      <td>2</td>\n",
              "      <td>own</td>\n",
              "      <td>little</td>\n",
              "      <td>little</td>\n",
              "      <td>8229</td>\n",
              "      <td>36</td>\n",
              "      <td>car</td>\n",
              "      <td>bad</td>\n",
              "    </tr>\n",
              "  </tbody>\n",
              "</table>\n",
              "<p>72 rows × 10 columns</p>\n",
              "</div>"
            ],
            "text/plain": [
              "     Age     Sex  Job  ... Duration              Purpose Default\n",
              "5     35    male    1  ...       36            education    good\n",
              "17    25    male    2  ...       30             business    good\n",
              "18    44  female    3  ...       24                  car     bad\n",
              "57    31  female    2  ...       36             radio/TV    good\n",
              "63    25    male    2  ...       48             business     bad\n",
              "..   ...     ...  ...  ...      ...                  ...     ...\n",
              "927   39    male    2  ...       48                  car     bad\n",
              "945   30  female    2  ...       48                  car    good\n",
              "953   26  female    3  ...       36  furniture/equipment     bad\n",
              "980   49    male    2  ...       30  furniture/equipment     bad\n",
              "983   26    male    2  ...       36                  car     bad\n",
              "\n",
              "[72 rows x 10 columns]"
            ]
          },
          "metadata": {},
          "execution_count": 115
        }
      ]
    },
    {
      "cell_type": "markdown",
      "metadata": {
        "id": "_hjPiUX3rVb0"
      },
      "source": [
        "**Removiendo los outliers de Credit Amount, creando dataset sin outliers**"
      ]
    },
    {
      "cell_type": "code",
      "metadata": {
        "colab": {
          "base_uri": "https://localhost:8080/",
          "height": 424
        },
        "id": "_qhjMkYwrE4d",
        "outputId": "6bdb197c-44e5-4e52-8918-e0cdba51e9ee"
      },
      "source": [
        "df_no_outlier = credit[(credit['Credit amount']>lower_limit)&(credit['Credit amount']<upper_limit)]\n",
        "df_no_outlier"
      ],
      "execution_count": null,
      "outputs": [
        {
          "output_type": "execute_result",
          "data": {
            "text/html": [
              "<div>\n",
              "<style scoped>\n",
              "    .dataframe tbody tr th:only-of-type {\n",
              "        vertical-align: middle;\n",
              "    }\n",
              "\n",
              "    .dataframe tbody tr th {\n",
              "        vertical-align: top;\n",
              "    }\n",
              "\n",
              "    .dataframe thead th {\n",
              "        text-align: right;\n",
              "    }\n",
              "</style>\n",
              "<table border=\"1\" class=\"dataframe\">\n",
              "  <thead>\n",
              "    <tr style=\"text-align: right;\">\n",
              "      <th></th>\n",
              "      <th>Age</th>\n",
              "      <th>Sex</th>\n",
              "      <th>Job</th>\n",
              "      <th>Housing</th>\n",
              "      <th>Saving accounts</th>\n",
              "      <th>Checking account</th>\n",
              "      <th>Credit amount</th>\n",
              "      <th>Duration</th>\n",
              "      <th>Purpose</th>\n",
              "      <th>Default</th>\n",
              "    </tr>\n",
              "  </thead>\n",
              "  <tbody>\n",
              "    <tr>\n",
              "      <th>0</th>\n",
              "      <td>67</td>\n",
              "      <td>male</td>\n",
              "      <td>2</td>\n",
              "      <td>own</td>\n",
              "      <td>little</td>\n",
              "      <td>little</td>\n",
              "      <td>1169</td>\n",
              "      <td>6</td>\n",
              "      <td>radio/TV</td>\n",
              "      <td>good</td>\n",
              "    </tr>\n",
              "    <tr>\n",
              "      <th>1</th>\n",
              "      <td>22</td>\n",
              "      <td>female</td>\n",
              "      <td>2</td>\n",
              "      <td>own</td>\n",
              "      <td>little</td>\n",
              "      <td>moderate</td>\n",
              "      <td>5951</td>\n",
              "      <td>48</td>\n",
              "      <td>radio/TV</td>\n",
              "      <td>bad</td>\n",
              "    </tr>\n",
              "    <tr>\n",
              "      <th>2</th>\n",
              "      <td>49</td>\n",
              "      <td>male</td>\n",
              "      <td>1</td>\n",
              "      <td>own</td>\n",
              "      <td>little</td>\n",
              "      <td>little</td>\n",
              "      <td>2096</td>\n",
              "      <td>12</td>\n",
              "      <td>education</td>\n",
              "      <td>good</td>\n",
              "    </tr>\n",
              "    <tr>\n",
              "      <th>3</th>\n",
              "      <td>45</td>\n",
              "      <td>male</td>\n",
              "      <td>2</td>\n",
              "      <td>free</td>\n",
              "      <td>little</td>\n",
              "      <td>little</td>\n",
              "      <td>7882</td>\n",
              "      <td>42</td>\n",
              "      <td>furniture/equipment</td>\n",
              "      <td>good</td>\n",
              "    </tr>\n",
              "    <tr>\n",
              "      <th>4</th>\n",
              "      <td>53</td>\n",
              "      <td>male</td>\n",
              "      <td>2</td>\n",
              "      <td>free</td>\n",
              "      <td>little</td>\n",
              "      <td>little</td>\n",
              "      <td>4870</td>\n",
              "      <td>24</td>\n",
              "      <td>car</td>\n",
              "      <td>bad</td>\n",
              "    </tr>\n",
              "    <tr>\n",
              "      <th>...</th>\n",
              "      <td>...</td>\n",
              "      <td>...</td>\n",
              "      <td>...</td>\n",
              "      <td>...</td>\n",
              "      <td>...</td>\n",
              "      <td>...</td>\n",
              "      <td>...</td>\n",
              "      <td>...</td>\n",
              "      <td>...</td>\n",
              "      <td>...</td>\n",
              "    </tr>\n",
              "    <tr>\n",
              "      <th>995</th>\n",
              "      <td>31</td>\n",
              "      <td>female</td>\n",
              "      <td>1</td>\n",
              "      <td>own</td>\n",
              "      <td>little</td>\n",
              "      <td>little</td>\n",
              "      <td>1736</td>\n",
              "      <td>12</td>\n",
              "      <td>furniture/equipment</td>\n",
              "      <td>good</td>\n",
              "    </tr>\n",
              "    <tr>\n",
              "      <th>996</th>\n",
              "      <td>40</td>\n",
              "      <td>male</td>\n",
              "      <td>3</td>\n",
              "      <td>own</td>\n",
              "      <td>little</td>\n",
              "      <td>little</td>\n",
              "      <td>3857</td>\n",
              "      <td>30</td>\n",
              "      <td>car</td>\n",
              "      <td>good</td>\n",
              "    </tr>\n",
              "    <tr>\n",
              "      <th>997</th>\n",
              "      <td>38</td>\n",
              "      <td>male</td>\n",
              "      <td>2</td>\n",
              "      <td>own</td>\n",
              "      <td>little</td>\n",
              "      <td>little</td>\n",
              "      <td>804</td>\n",
              "      <td>12</td>\n",
              "      <td>radio/TV</td>\n",
              "      <td>good</td>\n",
              "    </tr>\n",
              "    <tr>\n",
              "      <th>998</th>\n",
              "      <td>23</td>\n",
              "      <td>male</td>\n",
              "      <td>2</td>\n",
              "      <td>free</td>\n",
              "      <td>little</td>\n",
              "      <td>little</td>\n",
              "      <td>1845</td>\n",
              "      <td>45</td>\n",
              "      <td>radio/TV</td>\n",
              "      <td>bad</td>\n",
              "    </tr>\n",
              "    <tr>\n",
              "      <th>999</th>\n",
              "      <td>27</td>\n",
              "      <td>male</td>\n",
              "      <td>2</td>\n",
              "      <td>own</td>\n",
              "      <td>moderate</td>\n",
              "      <td>moderate</td>\n",
              "      <td>4576</td>\n",
              "      <td>45</td>\n",
              "      <td>car</td>\n",
              "      <td>good</td>\n",
              "    </tr>\n",
              "  </tbody>\n",
              "</table>\n",
              "<p>928 rows × 10 columns</p>\n",
              "</div>"
            ],
            "text/plain": [
              "     Age     Sex  Job  ... Duration              Purpose Default\n",
              "0     67    male    2  ...        6             radio/TV    good\n",
              "1     22  female    2  ...       48             radio/TV     bad\n",
              "2     49    male    1  ...       12            education    good\n",
              "3     45    male    2  ...       42  furniture/equipment    good\n",
              "4     53    male    2  ...       24                  car     bad\n",
              "..   ...     ...  ...  ...      ...                  ...     ...\n",
              "995   31  female    1  ...       12  furniture/equipment    good\n",
              "996   40    male    3  ...       30                  car    good\n",
              "997   38    male    2  ...       12             radio/TV    good\n",
              "998   23    male    2  ...       45             radio/TV     bad\n",
              "999   27    male    2  ...       45                  car    good\n",
              "\n",
              "[928 rows x 10 columns]"
            ]
          },
          "metadata": {},
          "execution_count": 116
        }
      ]
    },
    {
      "cell_type": "code",
      "metadata": {
        "id": "1_-UXpUfyM6y"
      },
      "source": [
        "# Outliers de la variable Duration"
      ],
      "execution_count": null,
      "outputs": []
    },
    {
      "cell_type": "code",
      "metadata": {
        "colab": {
          "base_uri": "https://localhost:8080/"
        },
        "id": "_YtJheQFyIDN",
        "outputId": "b326d95f-8ba0-491a-847e-4f6183aa1e20"
      },
      "source": [
        "Q1 = credit['Duration'].quantile(0.25)\n",
        "Q3 = credit['Duration'].quantile(0.75)\n",
        "Q1, Q3"
      ],
      "execution_count": null,
      "outputs": [
        {
          "output_type": "execute_result",
          "data": {
            "text/plain": [
              "(12.0, 24.0)"
            ]
          },
          "metadata": {},
          "execution_count": 131
        }
      ]
    },
    {
      "cell_type": "code",
      "metadata": {
        "colab": {
          "base_uri": "https://localhost:8080/"
        },
        "id": "BpxJqVZAyIPG",
        "outputId": "b2612a83-c046-46b2-e3b9-c5f13a7336c6"
      },
      "source": [
        "# Rango intercuartil\n",
        "IQR = Q3 - Q1\n",
        "IQR"
      ],
      "execution_count": null,
      "outputs": [
        {
          "output_type": "execute_result",
          "data": {
            "text/plain": [
              "12.0"
            ]
          },
          "metadata": {},
          "execution_count": 132
        }
      ]
    },
    {
      "cell_type": "code",
      "metadata": {
        "colab": {
          "base_uri": "https://localhost:8080/"
        },
        "id": "sZjAWO46yISz",
        "outputId": "e66d1707-8d72-4986-fd0d-8b53e4bd7498"
      },
      "source": [
        "#Limite inferior y superior de box plot\n",
        "lower_limit = Q1 - 1.5*IQR\n",
        "upper_limit = Q3 + 1.5*IQR\n",
        "lower_limit, upper_limit"
      ],
      "execution_count": null,
      "outputs": [
        {
          "output_type": "execute_result",
          "data": {
            "text/plain": [
              "(-6.0, 42.0)"
            ]
          },
          "metadata": {},
          "execution_count": 133
        }
      ]
    },
    {
      "cell_type": "code",
      "metadata": {
        "colab": {
          "base_uri": "https://localhost:8080/",
          "height": 424
        },
        "id": "g4px1uqIyIaW",
        "outputId": "536ad9ea-4e19-4611-e5fe-9dcb943a8cde"
      },
      "source": [
        "#Lista de los outliers de Duration\n",
        "#Outliers valores inferiores a limite inferior ,lower_limit = Q1 - 1.5*IQR\n",
        "#Outliers valores suoeriores  a limite inferior, upper_limit = Q3 + 1.5*IQR\n",
        "credit[(credit['Duration']<lower_limit)|(credit['Duration']>upper_limit)]"
      ],
      "execution_count": null,
      "outputs": [
        {
          "output_type": "execute_result",
          "data": {
            "text/html": [
              "<div>\n",
              "<style scoped>\n",
              "    .dataframe tbody tr th:only-of-type {\n",
              "        vertical-align: middle;\n",
              "    }\n",
              "\n",
              "    .dataframe tbody tr th {\n",
              "        vertical-align: top;\n",
              "    }\n",
              "\n",
              "    .dataframe thead th {\n",
              "        text-align: right;\n",
              "    }\n",
              "</style>\n",
              "<table border=\"1\" class=\"dataframe\">\n",
              "  <thead>\n",
              "    <tr style=\"text-align: right;\">\n",
              "      <th></th>\n",
              "      <th>Age</th>\n",
              "      <th>Sex</th>\n",
              "      <th>Job</th>\n",
              "      <th>Housing</th>\n",
              "      <th>Saving accounts</th>\n",
              "      <th>Checking account</th>\n",
              "      <th>Credit amount</th>\n",
              "      <th>Duration</th>\n",
              "      <th>Purpose</th>\n",
              "      <th>Default</th>\n",
              "    </tr>\n",
              "  </thead>\n",
              "  <tbody>\n",
              "    <tr>\n",
              "      <th>1</th>\n",
              "      <td>22</td>\n",
              "      <td>female</td>\n",
              "      <td>2</td>\n",
              "      <td>own</td>\n",
              "      <td>little</td>\n",
              "      <td>moderate</td>\n",
              "      <td>5951</td>\n",
              "      <td>48</td>\n",
              "      <td>5</td>\n",
              "      <td>1</td>\n",
              "    </tr>\n",
              "    <tr>\n",
              "      <th>11</th>\n",
              "      <td>24</td>\n",
              "      <td>female</td>\n",
              "      <td>2</td>\n",
              "      <td>rent</td>\n",
              "      <td>little</td>\n",
              "      <td>little</td>\n",
              "      <td>4308</td>\n",
              "      <td>48</td>\n",
              "      <td>0</td>\n",
              "      <td>1</td>\n",
              "    </tr>\n",
              "    <tr>\n",
              "      <th>29</th>\n",
              "      <td>63</td>\n",
              "      <td>male</td>\n",
              "      <td>2</td>\n",
              "      <td>own</td>\n",
              "      <td>little</td>\n",
              "      <td>little</td>\n",
              "      <td>6836</td>\n",
              "      <td>60</td>\n",
              "      <td>0</td>\n",
              "      <td>1</td>\n",
              "    </tr>\n",
              "    <tr>\n",
              "      <th>35</th>\n",
              "      <td>25</td>\n",
              "      <td>male</td>\n",
              "      <td>1</td>\n",
              "      <td>own</td>\n",
              "      <td>little</td>\n",
              "      <td>moderate</td>\n",
              "      <td>4746</td>\n",
              "      <td>45</td>\n",
              "      <td>5</td>\n",
              "      <td>1</td>\n",
              "    </tr>\n",
              "    <tr>\n",
              "      <th>36</th>\n",
              "      <td>31</td>\n",
              "      <td>male</td>\n",
              "      <td>2</td>\n",
              "      <td>free</td>\n",
              "      <td>little</td>\n",
              "      <td>little</td>\n",
              "      <td>6110</td>\n",
              "      <td>48</td>\n",
              "      <td>3</td>\n",
              "      <td>0</td>\n",
              "    </tr>\n",
              "    <tr>\n",
              "      <th>...</th>\n",
              "      <td>...</td>\n",
              "      <td>...</td>\n",
              "      <td>...</td>\n",
              "      <td>...</td>\n",
              "      <td>...</td>\n",
              "      <td>...</td>\n",
              "      <td>...</td>\n",
              "      <td>...</td>\n",
              "      <td>...</td>\n",
              "      <td>...</td>\n",
              "    </tr>\n",
              "    <tr>\n",
              "      <th>945</th>\n",
              "      <td>30</td>\n",
              "      <td>female</td>\n",
              "      <td>2</td>\n",
              "      <td>own</td>\n",
              "      <td>other</td>\n",
              "      <td>moderate</td>\n",
              "      <td>8358</td>\n",
              "      <td>48</td>\n",
              "      <td>1</td>\n",
              "      <td>0</td>\n",
              "    </tr>\n",
              "    <tr>\n",
              "      <th>973</th>\n",
              "      <td>36</td>\n",
              "      <td>male</td>\n",
              "      <td>2</td>\n",
              "      <td>rent</td>\n",
              "      <td>little</td>\n",
              "      <td>little</td>\n",
              "      <td>7297</td>\n",
              "      <td>60</td>\n",
              "      <td>0</td>\n",
              "      <td>1</td>\n",
              "    </tr>\n",
              "    <tr>\n",
              "      <th>981</th>\n",
              "      <td>33</td>\n",
              "      <td>male</td>\n",
              "      <td>3</td>\n",
              "      <td>rent</td>\n",
              "      <td>little</td>\n",
              "      <td>little</td>\n",
              "      <td>4844</td>\n",
              "      <td>48</td>\n",
              "      <td>0</td>\n",
              "      <td>1</td>\n",
              "    </tr>\n",
              "    <tr>\n",
              "      <th>998</th>\n",
              "      <td>23</td>\n",
              "      <td>male</td>\n",
              "      <td>2</td>\n",
              "      <td>free</td>\n",
              "      <td>little</td>\n",
              "      <td>little</td>\n",
              "      <td>1845</td>\n",
              "      <td>45</td>\n",
              "      <td>5</td>\n",
              "      <td>1</td>\n",
              "    </tr>\n",
              "    <tr>\n",
              "      <th>999</th>\n",
              "      <td>27</td>\n",
              "      <td>male</td>\n",
              "      <td>2</td>\n",
              "      <td>own</td>\n",
              "      <td>moderate</td>\n",
              "      <td>moderate</td>\n",
              "      <td>4576</td>\n",
              "      <td>45</td>\n",
              "      <td>1</td>\n",
              "      <td>0</td>\n",
              "    </tr>\n",
              "  </tbody>\n",
              "</table>\n",
              "<p>70 rows × 10 columns</p>\n",
              "</div>"
            ],
            "text/plain": [
              "     Age     Sex  Job Housing  ... Credit amount Duration  Purpose  Default\n",
              "1     22  female    2     own  ...          5951       48        5        1\n",
              "11    24  female    2    rent  ...          4308       48        0        1\n",
              "29    63    male    2     own  ...          6836       60        0        1\n",
              "35    25    male    1     own  ...          4746       45        5        1\n",
              "36    31    male    2    free  ...          6110       48        3        0\n",
              "..   ...     ...  ...     ...  ...           ...      ...      ...      ...\n",
              "945   30  female    2     own  ...          8358       48        1        0\n",
              "973   36    male    2    rent  ...          7297       60        0        1\n",
              "981   33    male    3    rent  ...          4844       48        0        1\n",
              "998   23    male    2    free  ...          1845       45        5        1\n",
              "999   27    male    2     own  ...          4576       45        1        0\n",
              "\n",
              "[70 rows x 10 columns]"
            ]
          },
          "metadata": {},
          "execution_count": 134
        }
      ]
    },
    {
      "cell_type": "code",
      "metadata": {
        "colab": {
          "base_uri": "https://localhost:8080/",
          "height": 424
        },
        "id": "wKpcLeGPyIeP",
        "outputId": "f66452ec-2bd8-4426-8f67-ce5e9b1f3b12"
      },
      "source": [
        "# Removiendo los outliers de Duration\n",
        "df_no_outlier = credit[(credit['Duration']>lower_limit)&(credit['Duration']<upper_limit)]\n",
        "df_no_outlier"
      ],
      "execution_count": null,
      "outputs": [
        {
          "output_type": "execute_result",
          "data": {
            "text/html": [
              "<div>\n",
              "<style scoped>\n",
              "    .dataframe tbody tr th:only-of-type {\n",
              "        vertical-align: middle;\n",
              "    }\n",
              "\n",
              "    .dataframe tbody tr th {\n",
              "        vertical-align: top;\n",
              "    }\n",
              "\n",
              "    .dataframe thead th {\n",
              "        text-align: right;\n",
              "    }\n",
              "</style>\n",
              "<table border=\"1\" class=\"dataframe\">\n",
              "  <thead>\n",
              "    <tr style=\"text-align: right;\">\n",
              "      <th></th>\n",
              "      <th>Age</th>\n",
              "      <th>Sex</th>\n",
              "      <th>Job</th>\n",
              "      <th>Housing</th>\n",
              "      <th>Saving accounts</th>\n",
              "      <th>Checking account</th>\n",
              "      <th>Credit amount</th>\n",
              "      <th>Duration</th>\n",
              "      <th>Purpose</th>\n",
              "      <th>Default</th>\n",
              "    </tr>\n",
              "  </thead>\n",
              "  <tbody>\n",
              "    <tr>\n",
              "      <th>0</th>\n",
              "      <td>67</td>\n",
              "      <td>male</td>\n",
              "      <td>2</td>\n",
              "      <td>own</td>\n",
              "      <td>little</td>\n",
              "      <td>little</td>\n",
              "      <td>1169</td>\n",
              "      <td>6</td>\n",
              "      <td>5</td>\n",
              "      <td>0</td>\n",
              "    </tr>\n",
              "    <tr>\n",
              "      <th>2</th>\n",
              "      <td>49</td>\n",
              "      <td>male</td>\n",
              "      <td>1</td>\n",
              "      <td>own</td>\n",
              "      <td>little</td>\n",
              "      <td>little</td>\n",
              "      <td>2096</td>\n",
              "      <td>12</td>\n",
              "      <td>3</td>\n",
              "      <td>0</td>\n",
              "    </tr>\n",
              "    <tr>\n",
              "      <th>4</th>\n",
              "      <td>53</td>\n",
              "      <td>male</td>\n",
              "      <td>2</td>\n",
              "      <td>free</td>\n",
              "      <td>little</td>\n",
              "      <td>little</td>\n",
              "      <td>4870</td>\n",
              "      <td>24</td>\n",
              "      <td>1</td>\n",
              "      <td>1</td>\n",
              "    </tr>\n",
              "    <tr>\n",
              "      <th>5</th>\n",
              "      <td>35</td>\n",
              "      <td>male</td>\n",
              "      <td>1</td>\n",
              "      <td>free</td>\n",
              "      <td>little</td>\n",
              "      <td>little</td>\n",
              "      <td>9055</td>\n",
              "      <td>36</td>\n",
              "      <td>3</td>\n",
              "      <td>0</td>\n",
              "    </tr>\n",
              "    <tr>\n",
              "      <th>6</th>\n",
              "      <td>53</td>\n",
              "      <td>male</td>\n",
              "      <td>2</td>\n",
              "      <td>own</td>\n",
              "      <td>other</td>\n",
              "      <td>little</td>\n",
              "      <td>2835</td>\n",
              "      <td>24</td>\n",
              "      <td>4</td>\n",
              "      <td>0</td>\n",
              "    </tr>\n",
              "    <tr>\n",
              "      <th>...</th>\n",
              "      <td>...</td>\n",
              "      <td>...</td>\n",
              "      <td>...</td>\n",
              "      <td>...</td>\n",
              "      <td>...</td>\n",
              "      <td>...</td>\n",
              "      <td>...</td>\n",
              "      <td>...</td>\n",
              "      <td>...</td>\n",
              "      <td>...</td>\n",
              "    </tr>\n",
              "    <tr>\n",
              "      <th>993</th>\n",
              "      <td>30</td>\n",
              "      <td>male</td>\n",
              "      <td>3</td>\n",
              "      <td>own</td>\n",
              "      <td>little</td>\n",
              "      <td>little</td>\n",
              "      <td>3959</td>\n",
              "      <td>36</td>\n",
              "      <td>4</td>\n",
              "      <td>0</td>\n",
              "    </tr>\n",
              "    <tr>\n",
              "      <th>994</th>\n",
              "      <td>50</td>\n",
              "      <td>male</td>\n",
              "      <td>2</td>\n",
              "      <td>own</td>\n",
              "      <td>little</td>\n",
              "      <td>little</td>\n",
              "      <td>2390</td>\n",
              "      <td>12</td>\n",
              "      <td>1</td>\n",
              "      <td>0</td>\n",
              "    </tr>\n",
              "    <tr>\n",
              "      <th>995</th>\n",
              "      <td>31</td>\n",
              "      <td>female</td>\n",
              "      <td>1</td>\n",
              "      <td>own</td>\n",
              "      <td>little</td>\n",
              "      <td>little</td>\n",
              "      <td>1736</td>\n",
              "      <td>12</td>\n",
              "      <td>4</td>\n",
              "      <td>0</td>\n",
              "    </tr>\n",
              "    <tr>\n",
              "      <th>996</th>\n",
              "      <td>40</td>\n",
              "      <td>male</td>\n",
              "      <td>3</td>\n",
              "      <td>own</td>\n",
              "      <td>little</td>\n",
              "      <td>little</td>\n",
              "      <td>3857</td>\n",
              "      <td>30</td>\n",
              "      <td>1</td>\n",
              "      <td>0</td>\n",
              "    </tr>\n",
              "    <tr>\n",
              "      <th>997</th>\n",
              "      <td>38</td>\n",
              "      <td>male</td>\n",
              "      <td>2</td>\n",
              "      <td>own</td>\n",
              "      <td>little</td>\n",
              "      <td>little</td>\n",
              "      <td>804</td>\n",
              "      <td>12</td>\n",
              "      <td>5</td>\n",
              "      <td>0</td>\n",
              "    </tr>\n",
              "  </tbody>\n",
              "</table>\n",
              "<p>919 rows × 10 columns</p>\n",
              "</div>"
            ],
            "text/plain": [
              "     Age     Sex  Job Housing  ... Credit amount Duration  Purpose  Default\n",
              "0     67    male    2     own  ...          1169        6        5        0\n",
              "2     49    male    1     own  ...          2096       12        3        0\n",
              "4     53    male    2    free  ...          4870       24        1        1\n",
              "5     35    male    1    free  ...          9055       36        3        0\n",
              "6     53    male    2     own  ...          2835       24        4        0\n",
              "..   ...     ...  ...     ...  ...           ...      ...      ...      ...\n",
              "993   30    male    3     own  ...          3959       36        4        0\n",
              "994   50    male    2     own  ...          2390       12        1        0\n",
              "995   31  female    1     own  ...          1736       12        4        0\n",
              "996   40    male    3     own  ...          3857       30        1        0\n",
              "997   38    male    2     own  ...           804       12        5        0\n",
              "\n",
              "[919 rows x 10 columns]"
            ]
          },
          "metadata": {},
          "execution_count": 135
        }
      ]
    },
    {
      "cell_type": "code",
      "metadata": {
        "id": "w6k6yhBzznAV"
      },
      "source": [
        "# Outliers de la variable Age"
      ],
      "execution_count": null,
      "outputs": []
    },
    {
      "cell_type": "code",
      "metadata": {
        "colab": {
          "base_uri": "https://localhost:8080/"
        },
        "id": "pjg8jhK2zpmm",
        "outputId": "18590b4e-769b-4eb1-a143-a4a5a2d388f5"
      },
      "source": [
        "Q1 = credit['Age'].quantile(0.25)\n",
        "Q3 = credit['Age'].quantile(0.75)\n",
        "Q1, Q3"
      ],
      "execution_count": null,
      "outputs": [
        {
          "output_type": "execute_result",
          "data": {
            "text/plain": [
              "(27.0, 42.0)"
            ]
          },
          "metadata": {},
          "execution_count": 136
        }
      ]
    },
    {
      "cell_type": "code",
      "metadata": {
        "colab": {
          "base_uri": "https://localhost:8080/"
        },
        "id": "nN1-SLS6zpx5",
        "outputId": "db22f5ed-0925-45b8-a22a-94d37e39b691"
      },
      "source": [
        "# Rango intercuartil\n",
        "IQR = Q3 - Q1\n",
        "IQR"
      ],
      "execution_count": null,
      "outputs": [
        {
          "output_type": "execute_result",
          "data": {
            "text/plain": [
              "15.0"
            ]
          },
          "metadata": {},
          "execution_count": 137
        }
      ]
    },
    {
      "cell_type": "code",
      "metadata": {
        "colab": {
          "base_uri": "https://localhost:8080/"
        },
        "id": "nA5zEdrazp3f",
        "outputId": "3a6f6617-a1ea-485f-a140-ee9fe7f4714d"
      },
      "source": [
        "#Limite inferior y superior de box plot\n",
        "lower_limit = Q1 - 1.5*IQR\n",
        "upper_limit = Q3 + 1.5*IQR\n",
        "lower_limit, upper_limit"
      ],
      "execution_count": null,
      "outputs": [
        {
          "output_type": "execute_result",
          "data": {
            "text/plain": [
              "(4.5, 64.5)"
            ]
          },
          "metadata": {},
          "execution_count": 138
        }
      ]
    },
    {
      "cell_type": "code",
      "metadata": {
        "colab": {
          "base_uri": "https://localhost:8080/",
          "height": 770
        },
        "id": "-g7WBDaYzp8H",
        "outputId": "928dfbe7-de52-4968-e23e-50bd2bcb7268"
      },
      "source": [
        "#Lista de los outliers de Age\n",
        "#Outliers valores inferiores a limite inferior ,lower_limit = Q1 - 1.5*IQR\n",
        "#Outliers valores suoeriores  a limite inferior, upper_limit = Q3 + 1.5*IQR\n",
        "credit[(credit['Age']<lower_limit)|(credit['Age']>upper_limit)]"
      ],
      "execution_count": null,
      "outputs": [
        {
          "output_type": "execute_result",
          "data": {
            "text/html": [
              "<div>\n",
              "<style scoped>\n",
              "    .dataframe tbody tr th:only-of-type {\n",
              "        vertical-align: middle;\n",
              "    }\n",
              "\n",
              "    .dataframe tbody tr th {\n",
              "        vertical-align: top;\n",
              "    }\n",
              "\n",
              "    .dataframe thead th {\n",
              "        text-align: right;\n",
              "    }\n",
              "</style>\n",
              "<table border=\"1\" class=\"dataframe\">\n",
              "  <thead>\n",
              "    <tr style=\"text-align: right;\">\n",
              "      <th></th>\n",
              "      <th>Age</th>\n",
              "      <th>Sex</th>\n",
              "      <th>Job</th>\n",
              "      <th>Housing</th>\n",
              "      <th>Saving accounts</th>\n",
              "      <th>Checking account</th>\n",
              "      <th>Credit amount</th>\n",
              "      <th>Duration</th>\n",
              "      <th>Purpose</th>\n",
              "      <th>Default</th>\n",
              "    </tr>\n",
              "  </thead>\n",
              "  <tbody>\n",
              "    <tr>\n",
              "      <th>0</th>\n",
              "      <td>67</td>\n",
              "      <td>male</td>\n",
              "      <td>2</td>\n",
              "      <td>own</td>\n",
              "      <td>little</td>\n",
              "      <td>little</td>\n",
              "      <td>1169</td>\n",
              "      <td>6</td>\n",
              "      <td>5</td>\n",
              "      <td>0</td>\n",
              "    </tr>\n",
              "    <tr>\n",
              "      <th>75</th>\n",
              "      <td>66</td>\n",
              "      <td>male</td>\n",
              "      <td>3</td>\n",
              "      <td>free</td>\n",
              "      <td>little</td>\n",
              "      <td>little</td>\n",
              "      <td>1526</td>\n",
              "      <td>12</td>\n",
              "      <td>1</td>\n",
              "      <td>0</td>\n",
              "    </tr>\n",
              "    <tr>\n",
              "      <th>137</th>\n",
              "      <td>66</td>\n",
              "      <td>male</td>\n",
              "      <td>1</td>\n",
              "      <td>own</td>\n",
              "      <td>other</td>\n",
              "      <td>moderate</td>\n",
              "      <td>766</td>\n",
              "      <td>12</td>\n",
              "      <td>5</td>\n",
              "      <td>1</td>\n",
              "    </tr>\n",
              "    <tr>\n",
              "      <th>163</th>\n",
              "      <td>70</td>\n",
              "      <td>male</td>\n",
              "      <td>3</td>\n",
              "      <td>free</td>\n",
              "      <td>little</td>\n",
              "      <td>moderate</td>\n",
              "      <td>7308</td>\n",
              "      <td>10</td>\n",
              "      <td>1</td>\n",
              "      <td>0</td>\n",
              "    </tr>\n",
              "    <tr>\n",
              "      <th>179</th>\n",
              "      <td>65</td>\n",
              "      <td>male</td>\n",
              "      <td>2</td>\n",
              "      <td>own</td>\n",
              "      <td>little</td>\n",
              "      <td>little</td>\n",
              "      <td>571</td>\n",
              "      <td>21</td>\n",
              "      <td>1</td>\n",
              "      <td>0</td>\n",
              "    </tr>\n",
              "    <tr>\n",
              "      <th>186</th>\n",
              "      <td>74</td>\n",
              "      <td>female</td>\n",
              "      <td>3</td>\n",
              "      <td>free</td>\n",
              "      <td>little</td>\n",
              "      <td>moderate</td>\n",
              "      <td>5129</td>\n",
              "      <td>9</td>\n",
              "      <td>1</td>\n",
              "      <td>1</td>\n",
              "    </tr>\n",
              "    <tr>\n",
              "      <th>187</th>\n",
              "      <td>68</td>\n",
              "      <td>male</td>\n",
              "      <td>0</td>\n",
              "      <td>free</td>\n",
              "      <td>little</td>\n",
              "      <td>moderate</td>\n",
              "      <td>1175</td>\n",
              "      <td>16</td>\n",
              "      <td>1</td>\n",
              "      <td>0</td>\n",
              "    </tr>\n",
              "    <tr>\n",
              "      <th>213</th>\n",
              "      <td>66</td>\n",
              "      <td>male</td>\n",
              "      <td>3</td>\n",
              "      <td>own</td>\n",
              "      <td>little</td>\n",
              "      <td>other</td>\n",
              "      <td>1908</td>\n",
              "      <td>30</td>\n",
              "      <td>0</td>\n",
              "      <td>1</td>\n",
              "    </tr>\n",
              "    <tr>\n",
              "      <th>330</th>\n",
              "      <td>75</td>\n",
              "      <td>male</td>\n",
              "      <td>3</td>\n",
              "      <td>free</td>\n",
              "      <td>little</td>\n",
              "      <td>little</td>\n",
              "      <td>6615</td>\n",
              "      <td>24</td>\n",
              "      <td>1</td>\n",
              "      <td>0</td>\n",
              "    </tr>\n",
              "    <tr>\n",
              "      <th>430</th>\n",
              "      <td>74</td>\n",
              "      <td>male</td>\n",
              "      <td>1</td>\n",
              "      <td>own</td>\n",
              "      <td>little</td>\n",
              "      <td>little</td>\n",
              "      <td>3448</td>\n",
              "      <td>5</td>\n",
              "      <td>0</td>\n",
              "      <td>0</td>\n",
              "    </tr>\n",
              "    <tr>\n",
              "      <th>438</th>\n",
              "      <td>65</td>\n",
              "      <td>male</td>\n",
              "      <td>0</td>\n",
              "      <td>own</td>\n",
              "      <td>little</td>\n",
              "      <td>little</td>\n",
              "      <td>3394</td>\n",
              "      <td>42</td>\n",
              "      <td>6</td>\n",
              "      <td>0</td>\n",
              "    </tr>\n",
              "    <tr>\n",
              "      <th>536</th>\n",
              "      <td>75</td>\n",
              "      <td>female</td>\n",
              "      <td>3</td>\n",
              "      <td>own</td>\n",
              "      <td>little</td>\n",
              "      <td>little</td>\n",
              "      <td>1374</td>\n",
              "      <td>6</td>\n",
              "      <td>1</td>\n",
              "      <td>0</td>\n",
              "    </tr>\n",
              "    <tr>\n",
              "      <th>554</th>\n",
              "      <td>67</td>\n",
              "      <td>female</td>\n",
              "      <td>3</td>\n",
              "      <td>own</td>\n",
              "      <td>little</td>\n",
              "      <td>moderate</td>\n",
              "      <td>1199</td>\n",
              "      <td>9</td>\n",
              "      <td>3</td>\n",
              "      <td>0</td>\n",
              "    </tr>\n",
              "    <tr>\n",
              "      <th>606</th>\n",
              "      <td>74</td>\n",
              "      <td>male</td>\n",
              "      <td>3</td>\n",
              "      <td>own</td>\n",
              "      <td>little</td>\n",
              "      <td>little</td>\n",
              "      <td>4526</td>\n",
              "      <td>24</td>\n",
              "      <td>0</td>\n",
              "      <td>0</td>\n",
              "    </tr>\n",
              "    <tr>\n",
              "      <th>624</th>\n",
              "      <td>65</td>\n",
              "      <td>male</td>\n",
              "      <td>2</td>\n",
              "      <td>free</td>\n",
              "      <td>little</td>\n",
              "      <td>little</td>\n",
              "      <td>2600</td>\n",
              "      <td>18</td>\n",
              "      <td>5</td>\n",
              "      <td>1</td>\n",
              "    </tr>\n",
              "    <tr>\n",
              "      <th>723</th>\n",
              "      <td>66</td>\n",
              "      <td>female</td>\n",
              "      <td>1</td>\n",
              "      <td>own</td>\n",
              "      <td>other</td>\n",
              "      <td>moderate</td>\n",
              "      <td>790</td>\n",
              "      <td>9</td>\n",
              "      <td>5</td>\n",
              "      <td>0</td>\n",
              "    </tr>\n",
              "    <tr>\n",
              "      <th>756</th>\n",
              "      <td>74</td>\n",
              "      <td>male</td>\n",
              "      <td>0</td>\n",
              "      <td>own</td>\n",
              "      <td>little</td>\n",
              "      <td>other</td>\n",
              "      <td>1299</td>\n",
              "      <td>6</td>\n",
              "      <td>1</td>\n",
              "      <td>0</td>\n",
              "    </tr>\n",
              "    <tr>\n",
              "      <th>774</th>\n",
              "      <td>66</td>\n",
              "      <td>male</td>\n",
              "      <td>0</td>\n",
              "      <td>free</td>\n",
              "      <td>other</td>\n",
              "      <td>other</td>\n",
              "      <td>1480</td>\n",
              "      <td>12</td>\n",
              "      <td>1</td>\n",
              "      <td>0</td>\n",
              "    </tr>\n",
              "    <tr>\n",
              "      <th>779</th>\n",
              "      <td>67</td>\n",
              "      <td>female</td>\n",
              "      <td>2</td>\n",
              "      <td>own</td>\n",
              "      <td>little</td>\n",
              "      <td>moderate</td>\n",
              "      <td>3872</td>\n",
              "      <td>18</td>\n",
              "      <td>6</td>\n",
              "      <td>0</td>\n",
              "    </tr>\n",
              "    <tr>\n",
              "      <th>807</th>\n",
              "      <td>65</td>\n",
              "      <td>male</td>\n",
              "      <td>2</td>\n",
              "      <td>own</td>\n",
              "      <td>little</td>\n",
              "      <td>little</td>\n",
              "      <td>930</td>\n",
              "      <td>12</td>\n",
              "      <td>5</td>\n",
              "      <td>0</td>\n",
              "    </tr>\n",
              "    <tr>\n",
              "      <th>846</th>\n",
              "      <td>68</td>\n",
              "      <td>male</td>\n",
              "      <td>2</td>\n",
              "      <td>rent</td>\n",
              "      <td>little</td>\n",
              "      <td>little</td>\n",
              "      <td>6761</td>\n",
              "      <td>18</td>\n",
              "      <td>1</td>\n",
              "      <td>1</td>\n",
              "    </tr>\n",
              "    <tr>\n",
              "      <th>883</th>\n",
              "      <td>65</td>\n",
              "      <td>female</td>\n",
              "      <td>0</td>\n",
              "      <td>own</td>\n",
              "      <td>little</td>\n",
              "      <td>little</td>\n",
              "      <td>1098</td>\n",
              "      <td>18</td>\n",
              "      <td>5</td>\n",
              "      <td>0</td>\n",
              "    </tr>\n",
              "    <tr>\n",
              "      <th>917</th>\n",
              "      <td>68</td>\n",
              "      <td>male</td>\n",
              "      <td>3</td>\n",
              "      <td>own</td>\n",
              "      <td>little</td>\n",
              "      <td>little</td>\n",
              "      <td>14896</td>\n",
              "      <td>6</td>\n",
              "      <td>1</td>\n",
              "      <td>1</td>\n",
              "    </tr>\n",
              "  </tbody>\n",
              "</table>\n",
              "</div>"
            ],
            "text/plain": [
              "     Age     Sex  Job Housing  ... Credit amount Duration  Purpose  Default\n",
              "0     67    male    2     own  ...          1169        6        5        0\n",
              "75    66    male    3    free  ...          1526       12        1        0\n",
              "137   66    male    1     own  ...           766       12        5        1\n",
              "163   70    male    3    free  ...          7308       10        1        0\n",
              "179   65    male    2     own  ...           571       21        1        0\n",
              "186   74  female    3    free  ...          5129        9        1        1\n",
              "187   68    male    0    free  ...          1175       16        1        0\n",
              "213   66    male    3     own  ...          1908       30        0        1\n",
              "330   75    male    3    free  ...          6615       24        1        0\n",
              "430   74    male    1     own  ...          3448        5        0        0\n",
              "438   65    male    0     own  ...          3394       42        6        0\n",
              "536   75  female    3     own  ...          1374        6        1        0\n",
              "554   67  female    3     own  ...          1199        9        3        0\n",
              "606   74    male    3     own  ...          4526       24        0        0\n",
              "624   65    male    2    free  ...          2600       18        5        1\n",
              "723   66  female    1     own  ...           790        9        5        0\n",
              "756   74    male    0     own  ...          1299        6        1        0\n",
              "774   66    male    0    free  ...          1480       12        1        0\n",
              "779   67  female    2     own  ...          3872       18        6        0\n",
              "807   65    male    2     own  ...           930       12        5        0\n",
              "846   68    male    2    rent  ...          6761       18        1        1\n",
              "883   65  female    0     own  ...          1098       18        5        0\n",
              "917   68    male    3     own  ...         14896        6        1        1\n",
              "\n",
              "[23 rows x 10 columns]"
            ]
          },
          "metadata": {},
          "execution_count": 139
        }
      ]
    },
    {
      "cell_type": "code",
      "metadata": {
        "colab": {
          "base_uri": "https://localhost:8080/",
          "height": 424
        },
        "id": "UGc04NxJz5Yc",
        "outputId": "9e9ab733-c677-4dd3-ba90-1dd2f2c72d58"
      },
      "source": [
        "# Removiendo los outliers de Age\n",
        "df_no_outlier = credit[(credit['Age']>lower_limit)&(credit['Age']<upper_limit)]\n",
        "df_no_outlier"
      ],
      "execution_count": null,
      "outputs": [
        {
          "output_type": "execute_result",
          "data": {
            "text/html": [
              "<div>\n",
              "<style scoped>\n",
              "    .dataframe tbody tr th:only-of-type {\n",
              "        vertical-align: middle;\n",
              "    }\n",
              "\n",
              "    .dataframe tbody tr th {\n",
              "        vertical-align: top;\n",
              "    }\n",
              "\n",
              "    .dataframe thead th {\n",
              "        text-align: right;\n",
              "    }\n",
              "</style>\n",
              "<table border=\"1\" class=\"dataframe\">\n",
              "  <thead>\n",
              "    <tr style=\"text-align: right;\">\n",
              "      <th></th>\n",
              "      <th>Age</th>\n",
              "      <th>Sex</th>\n",
              "      <th>Job</th>\n",
              "      <th>Housing</th>\n",
              "      <th>Saving accounts</th>\n",
              "      <th>Checking account</th>\n",
              "      <th>Credit amount</th>\n",
              "      <th>Duration</th>\n",
              "      <th>Purpose</th>\n",
              "      <th>Default</th>\n",
              "    </tr>\n",
              "  </thead>\n",
              "  <tbody>\n",
              "    <tr>\n",
              "      <th>1</th>\n",
              "      <td>22</td>\n",
              "      <td>female</td>\n",
              "      <td>2</td>\n",
              "      <td>own</td>\n",
              "      <td>little</td>\n",
              "      <td>moderate</td>\n",
              "      <td>5951</td>\n",
              "      <td>48</td>\n",
              "      <td>5</td>\n",
              "      <td>1</td>\n",
              "    </tr>\n",
              "    <tr>\n",
              "      <th>2</th>\n",
              "      <td>49</td>\n",
              "      <td>male</td>\n",
              "      <td>1</td>\n",
              "      <td>own</td>\n",
              "      <td>little</td>\n",
              "      <td>little</td>\n",
              "      <td>2096</td>\n",
              "      <td>12</td>\n",
              "      <td>3</td>\n",
              "      <td>0</td>\n",
              "    </tr>\n",
              "    <tr>\n",
              "      <th>3</th>\n",
              "      <td>45</td>\n",
              "      <td>male</td>\n",
              "      <td>2</td>\n",
              "      <td>free</td>\n",
              "      <td>little</td>\n",
              "      <td>little</td>\n",
              "      <td>7882</td>\n",
              "      <td>42</td>\n",
              "      <td>4</td>\n",
              "      <td>0</td>\n",
              "    </tr>\n",
              "    <tr>\n",
              "      <th>4</th>\n",
              "      <td>53</td>\n",
              "      <td>male</td>\n",
              "      <td>2</td>\n",
              "      <td>free</td>\n",
              "      <td>little</td>\n",
              "      <td>little</td>\n",
              "      <td>4870</td>\n",
              "      <td>24</td>\n",
              "      <td>1</td>\n",
              "      <td>1</td>\n",
              "    </tr>\n",
              "    <tr>\n",
              "      <th>5</th>\n",
              "      <td>35</td>\n",
              "      <td>male</td>\n",
              "      <td>1</td>\n",
              "      <td>free</td>\n",
              "      <td>little</td>\n",
              "      <td>little</td>\n",
              "      <td>9055</td>\n",
              "      <td>36</td>\n",
              "      <td>3</td>\n",
              "      <td>0</td>\n",
              "    </tr>\n",
              "    <tr>\n",
              "      <th>...</th>\n",
              "      <td>...</td>\n",
              "      <td>...</td>\n",
              "      <td>...</td>\n",
              "      <td>...</td>\n",
              "      <td>...</td>\n",
              "      <td>...</td>\n",
              "      <td>...</td>\n",
              "      <td>...</td>\n",
              "      <td>...</td>\n",
              "      <td>...</td>\n",
              "    </tr>\n",
              "    <tr>\n",
              "      <th>995</th>\n",
              "      <td>31</td>\n",
              "      <td>female</td>\n",
              "      <td>1</td>\n",
              "      <td>own</td>\n",
              "      <td>little</td>\n",
              "      <td>little</td>\n",
              "      <td>1736</td>\n",
              "      <td>12</td>\n",
              "      <td>4</td>\n",
              "      <td>0</td>\n",
              "    </tr>\n",
              "    <tr>\n",
              "      <th>996</th>\n",
              "      <td>40</td>\n",
              "      <td>male</td>\n",
              "      <td>3</td>\n",
              "      <td>own</td>\n",
              "      <td>little</td>\n",
              "      <td>little</td>\n",
              "      <td>3857</td>\n",
              "      <td>30</td>\n",
              "      <td>1</td>\n",
              "      <td>0</td>\n",
              "    </tr>\n",
              "    <tr>\n",
              "      <th>997</th>\n",
              "      <td>38</td>\n",
              "      <td>male</td>\n",
              "      <td>2</td>\n",
              "      <td>own</td>\n",
              "      <td>little</td>\n",
              "      <td>little</td>\n",
              "      <td>804</td>\n",
              "      <td>12</td>\n",
              "      <td>5</td>\n",
              "      <td>0</td>\n",
              "    </tr>\n",
              "    <tr>\n",
              "      <th>998</th>\n",
              "      <td>23</td>\n",
              "      <td>male</td>\n",
              "      <td>2</td>\n",
              "      <td>free</td>\n",
              "      <td>little</td>\n",
              "      <td>little</td>\n",
              "      <td>1845</td>\n",
              "      <td>45</td>\n",
              "      <td>5</td>\n",
              "      <td>1</td>\n",
              "    </tr>\n",
              "    <tr>\n",
              "      <th>999</th>\n",
              "      <td>27</td>\n",
              "      <td>male</td>\n",
              "      <td>2</td>\n",
              "      <td>own</td>\n",
              "      <td>moderate</td>\n",
              "      <td>moderate</td>\n",
              "      <td>4576</td>\n",
              "      <td>45</td>\n",
              "      <td>1</td>\n",
              "      <td>0</td>\n",
              "    </tr>\n",
              "  </tbody>\n",
              "</table>\n",
              "<p>977 rows × 10 columns</p>\n",
              "</div>"
            ],
            "text/plain": [
              "     Age     Sex  Job Housing  ... Credit amount Duration  Purpose  Default\n",
              "1     22  female    2     own  ...          5951       48        5        1\n",
              "2     49    male    1     own  ...          2096       12        3        0\n",
              "3     45    male    2    free  ...          7882       42        4        0\n",
              "4     53    male    2    free  ...          4870       24        1        1\n",
              "5     35    male    1    free  ...          9055       36        3        0\n",
              "..   ...     ...  ...     ...  ...           ...      ...      ...      ...\n",
              "995   31  female    1     own  ...          1736       12        4        0\n",
              "996   40    male    3     own  ...          3857       30        1        0\n",
              "997   38    male    2     own  ...           804       12        5        0\n",
              "998   23    male    2    free  ...          1845       45        5        1\n",
              "999   27    male    2     own  ...          4576       45        1        0\n",
              "\n",
              "[977 rows x 10 columns]"
            ]
          },
          "metadata": {},
          "execution_count": 140
        }
      ]
    },
    {
      "cell_type": "markdown",
      "metadata": {
        "id": "vuBPn9QRpCIu"
      },
      "source": [
        "#3.Ingenieria de caracteristicas"
      ]
    },
    {
      "cell_type": "markdown",
      "metadata": {
        "id": "EnxMUnZ9qYEy"
      },
      "source": [
        "\n",
        "Según la inferencia de 'Cuenta de ahorros' y 'Cuenta corriente', podemos agrupar las columnas en 3 categorías:\n",
        "\n",
        "'Little'\n",
        "\n",
        "'Moderate'\n",
        "\n",
        "'Other'"
      ]
    },
    {
      "cell_type": "code",
      "metadata": {
        "id": "R3ZGBSmnreho"
      },
      "source": [
        "# 'Saving Account'\n",
        "credit['Saving accounts']=credit['Saving accounts'].map({'little': 'little', 'moderate': 'moderate', 'quite rich':'other','rich':'other' })"
      ],
      "execution_count": null,
      "outputs": []
    },
    {
      "cell_type": "code",
      "metadata": {
        "id": "8MG9vUhEu0AV"
      },
      "source": [
        "# 'Checking Account'\n",
        "credit['Checking account']= credit['Checking account'].map({'little': 'little', 'moderate': 'moderate','rich':'other'})"
      ],
      "execution_count": null,
      "outputs": []
    },
    {
      "cell_type": "code",
      "metadata": {
        "id": "G6bGDJSPsArp"
      },
      "source": [
        "# La variable Purpose tiene muchas categorias\n",
        "## LabeEncoding the Purpose column\n",
        "from sklearn.preprocessing import LabelEncoder, StandardScaler, OneHotEncoder\n",
        "le = LabelEncoder()\n",
        "credit['Purpose'] = le.fit_transform(credit['Purpose'])\n",
        "\n"
      ],
      "execution_count": null,
      "outputs": []
    },
    {
      "cell_type": "code",
      "metadata": {
        "colab": {
          "base_uri": "https://localhost:8080/"
        },
        "id": "q0r8U_6_u0An",
        "scrolled": true,
        "outputId": "bc54f50e-1e12-449d-af08-eb88f40dd125"
      },
      "source": [
        "print(\"The various purposes are: \", le.classes_.tolist(), \"\\nAnd the hot encoded numbers for the same are\", credit['Purpose'].unique().tolist())"
      ],
      "execution_count": null,
      "outputs": [
        {
          "output_type": "stream",
          "name": "stdout",
          "text": [
            "The various purposes are:  ['business', 'car', 'domestic appliances', 'education', 'furniture/equipment', 'radio/TV', 'repairs', 'vacation/others'] \n",
            "And the hot encoded numbers for the same are [5, 3, 4, 1, 0, 2, 6, 7]\n"
          ]
        }
      ]
    },
    {
      "cell_type": "code",
      "metadata": {
        "colab": {
          "base_uri": "https://localhost:8080/",
          "height": 206
        },
        "id": "MawMQsCxu0AV",
        "outputId": "af7d2b0c-cc03-4632-8e2d-8975ffe0bc4a"
      },
      "source": [
        "credit.head() "
      ],
      "execution_count": null,
      "outputs": [
        {
          "output_type": "execute_result",
          "data": {
            "text/html": [
              "<div>\n",
              "<style scoped>\n",
              "    .dataframe tbody tr th:only-of-type {\n",
              "        vertical-align: middle;\n",
              "    }\n",
              "\n",
              "    .dataframe tbody tr th {\n",
              "        vertical-align: top;\n",
              "    }\n",
              "\n",
              "    .dataframe thead th {\n",
              "        text-align: right;\n",
              "    }\n",
              "</style>\n",
              "<table border=\"1\" class=\"dataframe\">\n",
              "  <thead>\n",
              "    <tr style=\"text-align: right;\">\n",
              "      <th></th>\n",
              "      <th>Age</th>\n",
              "      <th>Sex</th>\n",
              "      <th>Job</th>\n",
              "      <th>Housing</th>\n",
              "      <th>Saving accounts</th>\n",
              "      <th>Checking account</th>\n",
              "      <th>Credit amount</th>\n",
              "      <th>Duration</th>\n",
              "      <th>Purpose</th>\n",
              "      <th>Default</th>\n",
              "    </tr>\n",
              "  </thead>\n",
              "  <tbody>\n",
              "    <tr>\n",
              "      <th>0</th>\n",
              "      <td>67</td>\n",
              "      <td>male</td>\n",
              "      <td>2</td>\n",
              "      <td>own</td>\n",
              "      <td>little</td>\n",
              "      <td>little</td>\n",
              "      <td>1169</td>\n",
              "      <td>6</td>\n",
              "      <td>5</td>\n",
              "      <td>good</td>\n",
              "    </tr>\n",
              "    <tr>\n",
              "      <th>1</th>\n",
              "      <td>22</td>\n",
              "      <td>female</td>\n",
              "      <td>2</td>\n",
              "      <td>own</td>\n",
              "      <td>little</td>\n",
              "      <td>moderate</td>\n",
              "      <td>5951</td>\n",
              "      <td>48</td>\n",
              "      <td>5</td>\n",
              "      <td>bad</td>\n",
              "    </tr>\n",
              "    <tr>\n",
              "      <th>2</th>\n",
              "      <td>49</td>\n",
              "      <td>male</td>\n",
              "      <td>1</td>\n",
              "      <td>own</td>\n",
              "      <td>little</td>\n",
              "      <td>little</td>\n",
              "      <td>2096</td>\n",
              "      <td>12</td>\n",
              "      <td>3</td>\n",
              "      <td>good</td>\n",
              "    </tr>\n",
              "    <tr>\n",
              "      <th>3</th>\n",
              "      <td>45</td>\n",
              "      <td>male</td>\n",
              "      <td>2</td>\n",
              "      <td>free</td>\n",
              "      <td>little</td>\n",
              "      <td>little</td>\n",
              "      <td>7882</td>\n",
              "      <td>42</td>\n",
              "      <td>4</td>\n",
              "      <td>good</td>\n",
              "    </tr>\n",
              "    <tr>\n",
              "      <th>4</th>\n",
              "      <td>53</td>\n",
              "      <td>male</td>\n",
              "      <td>2</td>\n",
              "      <td>free</td>\n",
              "      <td>little</td>\n",
              "      <td>little</td>\n",
              "      <td>4870</td>\n",
              "      <td>24</td>\n",
              "      <td>1</td>\n",
              "      <td>bad</td>\n",
              "    </tr>\n",
              "  </tbody>\n",
              "</table>\n",
              "</div>"
            ],
            "text/plain": [
              "   Age     Sex  Job Housing  ... Credit amount Duration  Purpose  Default\n",
              "0   67    male    2     own  ...          1169        6        5     good\n",
              "1   22  female    2     own  ...          5951       48        5      bad\n",
              "2   49    male    1     own  ...          2096       12        3     good\n",
              "3   45    male    2    free  ...          7882       42        4     good\n",
              "4   53    male    2    free  ...          4870       24        1      bad\n",
              "\n",
              "[5 rows x 10 columns]"
            ]
          },
          "metadata": {},
          "execution_count": 121
        }
      ]
    },
    {
      "cell_type": "markdown",
      "metadata": {
        "id": "gwVbUzfl9cHX"
      },
      "source": [
        "4. Data Processing"
      ]
    },
    {
      "cell_type": "markdown",
      "metadata": {
        "id": "c4HG_tRa9irQ"
      },
      "source": [
        "Asignación  'Dependent' and 'Independent' Features"
      ]
    },
    {
      "cell_type": "code",
      "metadata": {
        "id": "dB1qN4Zh9l4r"
      },
      "source": [
        "##credit['default'] = credit['default'].map({'no':0, 'yes': 1})\n",
        "\n",
        "credit['Default'] = credit['Default'].map({'good':0, 'bad': 1})"
      ],
      "execution_count": null,
      "outputs": []
    },
    {
      "cell_type": "code",
      "metadata": {
        "colab": {
          "base_uri": "https://localhost:8080/"
        },
        "id": "1SRDMBrC9o9G",
        "outputId": "51bca6c5-9215-4c15-ddaa-e55ad79a3f5c"
      },
      "source": [
        "print(credit['Default'].value_counts()) ## Distribución de frecuencia del target Default"
      ],
      "execution_count": null,
      "outputs": [
        {
          "output_type": "stream",
          "name": "stdout",
          "text": [
            "0    700\n",
            "1    300\n",
            "Name: Default, dtype: int64\n"
          ]
        }
      ]
    },
    {
      "cell_type": "code",
      "metadata": {
        "id": "OmbjuZEh9u77"
      },
      "source": [
        "#separating the y-column from the rest of the data\n",
        "\n",
        "\n",
        "X=credit.drop(\"Default\", axis=1)\n",
        "\n",
        "y=credit[\"Default\"]\n"
      ],
      "execution_count": null,
      "outputs": []
    },
    {
      "cell_type": "code",
      "metadata": {
        "colab": {
          "base_uri": "https://localhost:8080/",
          "height": 424
        },
        "id": "tL7XSyP89xue",
        "outputId": "b2cd70cf-ab51-4396-a2e0-1b08885561d7"
      },
      "source": [
        "x1 = X.copy()\n",
        "x1"
      ],
      "execution_count": null,
      "outputs": [
        {
          "output_type": "execute_result",
          "data": {
            "text/html": [
              "<div>\n",
              "<style scoped>\n",
              "    .dataframe tbody tr th:only-of-type {\n",
              "        vertical-align: middle;\n",
              "    }\n",
              "\n",
              "    .dataframe tbody tr th {\n",
              "        vertical-align: top;\n",
              "    }\n",
              "\n",
              "    .dataframe thead th {\n",
              "        text-align: right;\n",
              "    }\n",
              "</style>\n",
              "<table border=\"1\" class=\"dataframe\">\n",
              "  <thead>\n",
              "    <tr style=\"text-align: right;\">\n",
              "      <th></th>\n",
              "      <th>Age</th>\n",
              "      <th>Sex</th>\n",
              "      <th>Job</th>\n",
              "      <th>Housing</th>\n",
              "      <th>Saving accounts</th>\n",
              "      <th>Checking account</th>\n",
              "      <th>Credit amount</th>\n",
              "      <th>Duration</th>\n",
              "      <th>Purpose</th>\n",
              "    </tr>\n",
              "  </thead>\n",
              "  <tbody>\n",
              "    <tr>\n",
              "      <th>0</th>\n",
              "      <td>67</td>\n",
              "      <td>male</td>\n",
              "      <td>2</td>\n",
              "      <td>own</td>\n",
              "      <td>little</td>\n",
              "      <td>little</td>\n",
              "      <td>1169</td>\n",
              "      <td>6</td>\n",
              "      <td>5</td>\n",
              "    </tr>\n",
              "    <tr>\n",
              "      <th>1</th>\n",
              "      <td>22</td>\n",
              "      <td>female</td>\n",
              "      <td>2</td>\n",
              "      <td>own</td>\n",
              "      <td>little</td>\n",
              "      <td>moderate</td>\n",
              "      <td>5951</td>\n",
              "      <td>48</td>\n",
              "      <td>5</td>\n",
              "    </tr>\n",
              "    <tr>\n",
              "      <th>2</th>\n",
              "      <td>49</td>\n",
              "      <td>male</td>\n",
              "      <td>1</td>\n",
              "      <td>own</td>\n",
              "      <td>little</td>\n",
              "      <td>little</td>\n",
              "      <td>2096</td>\n",
              "      <td>12</td>\n",
              "      <td>3</td>\n",
              "    </tr>\n",
              "    <tr>\n",
              "      <th>3</th>\n",
              "      <td>45</td>\n",
              "      <td>male</td>\n",
              "      <td>2</td>\n",
              "      <td>free</td>\n",
              "      <td>little</td>\n",
              "      <td>little</td>\n",
              "      <td>7882</td>\n",
              "      <td>42</td>\n",
              "      <td>4</td>\n",
              "    </tr>\n",
              "    <tr>\n",
              "      <th>4</th>\n",
              "      <td>53</td>\n",
              "      <td>male</td>\n",
              "      <td>2</td>\n",
              "      <td>free</td>\n",
              "      <td>little</td>\n",
              "      <td>little</td>\n",
              "      <td>4870</td>\n",
              "      <td>24</td>\n",
              "      <td>1</td>\n",
              "    </tr>\n",
              "    <tr>\n",
              "      <th>...</th>\n",
              "      <td>...</td>\n",
              "      <td>...</td>\n",
              "      <td>...</td>\n",
              "      <td>...</td>\n",
              "      <td>...</td>\n",
              "      <td>...</td>\n",
              "      <td>...</td>\n",
              "      <td>...</td>\n",
              "      <td>...</td>\n",
              "    </tr>\n",
              "    <tr>\n",
              "      <th>995</th>\n",
              "      <td>31</td>\n",
              "      <td>female</td>\n",
              "      <td>1</td>\n",
              "      <td>own</td>\n",
              "      <td>little</td>\n",
              "      <td>little</td>\n",
              "      <td>1736</td>\n",
              "      <td>12</td>\n",
              "      <td>4</td>\n",
              "    </tr>\n",
              "    <tr>\n",
              "      <th>996</th>\n",
              "      <td>40</td>\n",
              "      <td>male</td>\n",
              "      <td>3</td>\n",
              "      <td>own</td>\n",
              "      <td>little</td>\n",
              "      <td>little</td>\n",
              "      <td>3857</td>\n",
              "      <td>30</td>\n",
              "      <td>1</td>\n",
              "    </tr>\n",
              "    <tr>\n",
              "      <th>997</th>\n",
              "      <td>38</td>\n",
              "      <td>male</td>\n",
              "      <td>2</td>\n",
              "      <td>own</td>\n",
              "      <td>little</td>\n",
              "      <td>little</td>\n",
              "      <td>804</td>\n",
              "      <td>12</td>\n",
              "      <td>5</td>\n",
              "    </tr>\n",
              "    <tr>\n",
              "      <th>998</th>\n",
              "      <td>23</td>\n",
              "      <td>male</td>\n",
              "      <td>2</td>\n",
              "      <td>free</td>\n",
              "      <td>little</td>\n",
              "      <td>little</td>\n",
              "      <td>1845</td>\n",
              "      <td>45</td>\n",
              "      <td>5</td>\n",
              "    </tr>\n",
              "    <tr>\n",
              "      <th>999</th>\n",
              "      <td>27</td>\n",
              "      <td>male</td>\n",
              "      <td>2</td>\n",
              "      <td>own</td>\n",
              "      <td>moderate</td>\n",
              "      <td>moderate</td>\n",
              "      <td>4576</td>\n",
              "      <td>45</td>\n",
              "      <td>1</td>\n",
              "    </tr>\n",
              "  </tbody>\n",
              "</table>\n",
              "<p>1000 rows × 9 columns</p>\n",
              "</div>"
            ],
            "text/plain": [
              "     Age     Sex  Job  ... Credit amount Duration Purpose\n",
              "0     67    male    2  ...          1169        6       5\n",
              "1     22  female    2  ...          5951       48       5\n",
              "2     49    male    1  ...          2096       12       3\n",
              "3     45    male    2  ...          7882       42       4\n",
              "4     53    male    2  ...          4870       24       1\n",
              "..   ...     ...  ...  ...           ...      ...     ...\n",
              "995   31  female    1  ...          1736       12       4\n",
              "996   40    male    3  ...          3857       30       1\n",
              "997   38    male    2  ...           804       12       5\n",
              "998   23    male    2  ...          1845       45       5\n",
              "999   27    male    2  ...          4576       45       1\n",
              "\n",
              "[1000 rows x 9 columns]"
            ]
          },
          "metadata": {},
          "execution_count": 125
        }
      ]
    },
    {
      "cell_type": "markdown",
      "metadata": {
        "id": "WtmeGq_M-Ed4"
      },
      "source": [
        "\n",
        "\n",
        "**Estandarización de la data**: Dummification de caracteristicas categóricas y estandarización de caracteristicas numéricas"
      ]
    },
    {
      "cell_type": "code",
      "metadata": {
        "colab": {
          "base_uri": "https://localhost:8080/"
        },
        "id": "CPAKwdB_-GbZ",
        "outputId": "8a120cc6-aff8-4e5a-8de4-21358ec7b6cc"
      },
      "source": [
        "# List to store Categorical Columns\n",
        "cat_cols = list(x1.columns[x1.dtypes == 'object'])\n",
        "print(\"Categorical Columns: \",cat_cols)\n"
      ],
      "execution_count": null,
      "outputs": [
        {
          "output_type": "stream",
          "name": "stdout",
          "text": [
            "Categorical Columns:  ['Sex', 'Housing', 'Saving accounts', 'Checking account']\n"
          ]
        }
      ]
    },
    {
      "cell_type": "code",
      "metadata": {
        "colab": {
          "base_uri": "https://localhost:8080/"
        },
        "id": "YILVmHB1-GyK",
        "outputId": "17bd452c-2d2e-4455-ebed-921dc539129e"
      },
      "source": [
        "# List to store Numerical Columns\n",
        "num_cols = list(x1.columns[x1.dtypes!= 'object'])\n",
        "print(\"\\nNumerical Columns:\" ,num_cols)\n",
        "\n"
      ],
      "execution_count": null,
      "outputs": [
        {
          "output_type": "stream",
          "name": "stdout",
          "text": [
            "\n",
            "Numerical Columns: ['Age', 'Job', 'Credit amount', 'Duration', 'Purpose']\n"
          ]
        }
      ]
    },
    {
      "cell_type": "markdown",
      "metadata": {
        "id": "D5ZpGbO7-Oeg"
      },
      "source": [
        "*Etiquetado de caracteristicas categoricas:\n",
        "La mayor parte de los agoritmos de ML, trabajan con caracteristicas numericas."
      ]
    },
    {
      "cell_type": "code",
      "metadata": {
        "colab": {
          "base_uri": "https://localhost:8080/",
          "height": 424
        },
        "id": "XRDlSwJO-G2x",
        "outputId": "6aca9342-8330-4af9-9bc2-8b3205bbb2f0"
      },
      "source": [
        "## One-Hot Encoding Categorical Columns\n",
        "## drop_first=True evita la multicolibnealidad entre las caracteristicas\n",
        "\n",
        "x1_dummy=pd.get_dummies(x1[cat_cols], drop_first=True)\n",
        "x1_dummy "
      ],
      "execution_count": null,
      "outputs": [
        {
          "output_type": "execute_result",
          "data": {
            "text/html": [
              "<div>\n",
              "<style scoped>\n",
              "    .dataframe tbody tr th:only-of-type {\n",
              "        vertical-align: middle;\n",
              "    }\n",
              "\n",
              "    .dataframe tbody tr th {\n",
              "        vertical-align: top;\n",
              "    }\n",
              "\n",
              "    .dataframe thead th {\n",
              "        text-align: right;\n",
              "    }\n",
              "</style>\n",
              "<table border=\"1\" class=\"dataframe\">\n",
              "  <thead>\n",
              "    <tr style=\"text-align: right;\">\n",
              "      <th></th>\n",
              "      <th>Sex_male</th>\n",
              "      <th>Housing_own</th>\n",
              "      <th>Housing_rent</th>\n",
              "      <th>Saving accounts_moderate</th>\n",
              "      <th>Saving accounts_other</th>\n",
              "      <th>Checking account_moderate</th>\n",
              "      <th>Checking account_other</th>\n",
              "    </tr>\n",
              "  </thead>\n",
              "  <tbody>\n",
              "    <tr>\n",
              "      <th>0</th>\n",
              "      <td>1</td>\n",
              "      <td>1</td>\n",
              "      <td>0</td>\n",
              "      <td>0</td>\n",
              "      <td>0</td>\n",
              "      <td>0</td>\n",
              "      <td>0</td>\n",
              "    </tr>\n",
              "    <tr>\n",
              "      <th>1</th>\n",
              "      <td>0</td>\n",
              "      <td>1</td>\n",
              "      <td>0</td>\n",
              "      <td>0</td>\n",
              "      <td>0</td>\n",
              "      <td>1</td>\n",
              "      <td>0</td>\n",
              "    </tr>\n",
              "    <tr>\n",
              "      <th>2</th>\n",
              "      <td>1</td>\n",
              "      <td>1</td>\n",
              "      <td>0</td>\n",
              "      <td>0</td>\n",
              "      <td>0</td>\n",
              "      <td>0</td>\n",
              "      <td>0</td>\n",
              "    </tr>\n",
              "    <tr>\n",
              "      <th>3</th>\n",
              "      <td>1</td>\n",
              "      <td>0</td>\n",
              "      <td>0</td>\n",
              "      <td>0</td>\n",
              "      <td>0</td>\n",
              "      <td>0</td>\n",
              "      <td>0</td>\n",
              "    </tr>\n",
              "    <tr>\n",
              "      <th>4</th>\n",
              "      <td>1</td>\n",
              "      <td>0</td>\n",
              "      <td>0</td>\n",
              "      <td>0</td>\n",
              "      <td>0</td>\n",
              "      <td>0</td>\n",
              "      <td>0</td>\n",
              "    </tr>\n",
              "    <tr>\n",
              "      <th>...</th>\n",
              "      <td>...</td>\n",
              "      <td>...</td>\n",
              "      <td>...</td>\n",
              "      <td>...</td>\n",
              "      <td>...</td>\n",
              "      <td>...</td>\n",
              "      <td>...</td>\n",
              "    </tr>\n",
              "    <tr>\n",
              "      <th>995</th>\n",
              "      <td>0</td>\n",
              "      <td>1</td>\n",
              "      <td>0</td>\n",
              "      <td>0</td>\n",
              "      <td>0</td>\n",
              "      <td>0</td>\n",
              "      <td>0</td>\n",
              "    </tr>\n",
              "    <tr>\n",
              "      <th>996</th>\n",
              "      <td>1</td>\n",
              "      <td>1</td>\n",
              "      <td>0</td>\n",
              "      <td>0</td>\n",
              "      <td>0</td>\n",
              "      <td>0</td>\n",
              "      <td>0</td>\n",
              "    </tr>\n",
              "    <tr>\n",
              "      <th>997</th>\n",
              "      <td>1</td>\n",
              "      <td>1</td>\n",
              "      <td>0</td>\n",
              "      <td>0</td>\n",
              "      <td>0</td>\n",
              "      <td>0</td>\n",
              "      <td>0</td>\n",
              "    </tr>\n",
              "    <tr>\n",
              "      <th>998</th>\n",
              "      <td>1</td>\n",
              "      <td>0</td>\n",
              "      <td>0</td>\n",
              "      <td>0</td>\n",
              "      <td>0</td>\n",
              "      <td>0</td>\n",
              "      <td>0</td>\n",
              "    </tr>\n",
              "    <tr>\n",
              "      <th>999</th>\n",
              "      <td>1</td>\n",
              "      <td>1</td>\n",
              "      <td>0</td>\n",
              "      <td>1</td>\n",
              "      <td>0</td>\n",
              "      <td>1</td>\n",
              "      <td>0</td>\n",
              "    </tr>\n",
              "  </tbody>\n",
              "</table>\n",
              "<p>1000 rows × 7 columns</p>\n",
              "</div>"
            ],
            "text/plain": [
              "     Sex_male  Housing_own  ...  Checking account_moderate  Checking account_other\n",
              "0           1            1  ...                          0                       0\n",
              "1           0            1  ...                          1                       0\n",
              "2           1            1  ...                          0                       0\n",
              "3           1            0  ...                          0                       0\n",
              "4           1            0  ...                          0                       0\n",
              "..        ...          ...  ...                        ...                     ...\n",
              "995         0            1  ...                          0                       0\n",
              "996         1            1  ...                          0                       0\n",
              "997         1            1  ...                          0                       0\n",
              "998         1            0  ...                          0                       0\n",
              "999         1            1  ...                          1                       0\n",
              "\n",
              "[1000 rows x 7 columns]"
            ]
          },
          "metadata": {},
          "execution_count": 128
        }
      ]
    },
    {
      "cell_type": "code",
      "metadata": {
        "id": "AcS-lhmO-G7m"
      },
      "source": [
        "## Joining New dummified and Numerical columns\n",
        "x_new = pd.concat([x1_dummy, x1[num_cols]], axis=1, join='inner')\n",
        "#x_new = pd.concat([x1_dummy, x1[num_cols]], axis=1, join='inner')"
      ],
      "execution_count": null,
      "outputs": []
    },
    {
      "cell_type": "markdown",
      "metadata": {
        "id": "6YqTR1yH-c9U"
      },
      "source": [
        "Estandarización:\n",
        "StandardScaler estandariza una característica restando la media y luego escalando a la varianza de la unidad. La varianza unitaria significa dividir todos los valores por la desviación estándar."
      ]
    },
    {
      "cell_type": "code",
      "metadata": {
        "id": "RwvPdK_e-grS"
      },
      "source": [
        "## Estandarización: StandardScaler estandariza una característica restando la media y \n",
        "## luego escalando a la varianza de la unidad. La varianza unitaria significa dividir \n",
        "## todos los valores por la desviación estándar. \n",
        "\n",
        "#### Normalizing the Dataset\n",
        "ss = StandardScaler()\n",
        "x_normal = ss.fit_transform(x_new)"
      ],
      "execution_count": null,
      "outputs": []
    }
  ]
}